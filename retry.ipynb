{
  "nbformat": 4,
  "nbformat_minor": 0,
  "metadata": {
    "kernelspec": {
      "name": "python3",
      "display_name": "Python 3"
    },
    "language_info": {
      "codemirror_mode": {
        "name": "ipython",
        "version": 3
      },
      "file_extension": ".py",
      "mimetype": "text/x-python",
      "name": "python",
      "nbconvert_exporter": "python",
      "pygments_lexer": "ipython3",
      "version": "3.6.4"
    },
    "colab": {
      "name": "retry",
      "provenance": [],
      "include_colab_link": true
    },
    "accelerator": "GPU"
  },
  "cells": [
    {
      "cell_type": "markdown",
      "metadata": {
        "id": "view-in-github",
        "colab_type": "text"
      },
      "source": [
        "<a href=\"https://colab.research.google.com/github/spandandey21/Complete-Python-3-Bootcamp/blob/master/retry.ipynb\" target=\"_parent\"><img src=\"https://colab.research.google.com/assets/colab-badge.svg\" alt=\"Open In Colab\"/></a>"
      ]
    },
    {
      "cell_type": "markdown",
      "metadata": {
        "id": "1DTwmgx3AIJO",
        "colab_type": "text"
      },
      "source": [
        "# Helpful Functions"
      ]
    },
    {
      "cell_type": "code",
      "metadata": {
        "id": "D8aTaPmZAIJS",
        "colab_type": "code",
        "colab": {}
      },
      "source": [
        "from sklearn import preprocessing\n",
        "from sklearn.metrics import classification_report, confusion_matrix  \n",
        "import matplotlib.pyplot as plt\n",
        "import numpy as np\n",
        "import pandas as pd\n",
        "import shutil\n",
        "import os\n",
        "import requests\n",
        "import base64\n",
        "\n",
        "\n",
        "# Encode text values to dummy variables(i.e. [1,0,0],[0,1,0],[0,0,1] for red,green,blue)\n",
        "def encode_text_dummy(df, name):\n",
        "    dummies = pd.get_dummies(df[name])\n",
        "    for x in dummies.columns:\n",
        "        dummy_name = \"{}-{}\".format(name, x)\n",
        "        df[dummy_name] = dummies[x]\n",
        "    df.drop(name, axis=1, inplace=True)\n",
        "\n",
        "\n",
        "# Encode text values to a single dummy variable.  The new columns (which do not replace the old) will have a 1\n",
        "# at every location where the original column (name) matches each of the target_values.  One column is added for\n",
        "# each target value.\n",
        "def encode_text_single_dummy(df, name, target_values):\n",
        "    for tv in target_values:\n",
        "        l = list(df[name].astype(str))\n",
        "        l = [1 if str(x) == str(tv) else 0 for x in l]\n",
        "        name2 = \"{}-{}\".format(name, tv)\n",
        "        df[name2] = l\n",
        "\n",
        "\n",
        "# Encode text values to indexes(i.e. [1],[2],[3] for red,green,blue).\n",
        "def encode_text_index(df, name):\n",
        "    le = preprocessing.LabelEncoder()\n",
        "    df[name] = le.fit_transform(df[name])\n",
        "    return le.classes_\n",
        "\n",
        "\n",
        "# Encode a numeric column as zscores\n",
        "def encode_numeric_zscore(df, name, mean=None, sd=None):\n",
        "    if mean is None:\n",
        "        mean = df[name].mean()\n",
        "\n",
        "    if sd is None:\n",
        "        sd = df[name].std()\n",
        "\n",
        "    df[name] = (df[name] - mean) / sd\n",
        "\n",
        "\n",
        "\n",
        "    \n",
        "    \n",
        "\n",
        "# Convert all missing values in the specified column to the median\n",
        "def missing_median(df, name):\n",
        "    med = df[name].median()\n",
        "    df[name] = df[name].fillna(med)\n",
        "\n",
        "\n",
        "# Convert all missing values in the specified column to the default\n",
        "def missing_default(df, name, default_value):\n",
        "    df[name] = df[name].fillna(default_value)\n",
        "\n",
        "\n",
        "# Convert a Pandas dataframe to the x,y inputs that TensorFlow needs\n",
        "def to_xy(df, target):\n",
        "    result = []\n",
        "    for x in df.columns:\n",
        "        if x != target:\n",
        "            result.append(x)\n",
        "    # find out the type of the target column.  Is it really this hard? :(\n",
        "    target_type = df[target].dtypes\n",
        "    target_type = target_type[0] if hasattr(target_type, '__iter__') else target_type\n",
        "    # Encode to int for classification, float otherwise. TensorFlow likes 32 bits.\n",
        "    if target_type in (np.int64, np.int32):\n",
        "        # Classification\n",
        "        dummies = pd.get_dummies(df[target])\n",
        "        return df.as_matrix(result).astype(np.float32), dummies.as_matrix().astype(np.float32)\n",
        "    else:\n",
        "        # Regression\n",
        "        return df.as_matrix(result).astype(np.float32), df.as_matrix([target]).astype(np.float32)\n",
        "\n",
        "# Nicely formatted time string\n",
        "def hms_string(sec_elapsed):\n",
        "    h = int(sec_elapsed / (60 * 60))\n",
        "    m = int((sec_elapsed % (60 * 60)) / 60)\n",
        "    s = sec_elapsed % 60\n",
        "    return \"{}:{:>02}:{:>05.2f}\".format(h, m, s)\n",
        "\n",
        "\n",
        "# Regression chart.\n",
        "def chart_regression(pred,y,sort=True):\n",
        "    t = pd.DataFrame({'pred' : pred, 'y' : y.flatten()})\n",
        "    if sort:\n",
        "        t.sort_values(by=['y'],inplace=True)\n",
        "    a = plt.plot(t['y'].tolist(),label='expected')\n",
        "    b = plt.plot(t['pred'].tolist(),label='prediction')\n",
        "    plt.ylabel('output')\n",
        "    plt.legend()\n",
        "    plt.show()\n",
        "\n",
        "# Remove all rows where the specified column is +/- sd standard deviations\n",
        "def remove_outliers(df, name, sd):\n",
        "    drop_rows = df.index[(np.abs(df[name] - df[name].mean()) >= (sd * df[name].std()))]\n",
        "    df.drop(drop_rows, axis=0, inplace=True)\n",
        "\n",
        "\n",
        "# Encode a column to a range between normalized_low and normalized_high.\n",
        "def encode_numeric_range(df, name, normalized_low=-1, normalized_high=1,\n",
        "                         data_low=None, data_high=None):\n",
        "    if data_low is None:\n",
        "        data_low = min(df[name])\n",
        "        data_high = max(df[name])\n",
        "\n",
        "    df[name] = ((df[name] - data_low) / (data_high - data_low)) \\\n",
        "               * (normalized_high - normalized_low) + normalized_low"
      ],
      "execution_count": 0,
      "outputs": []
    },
    {
      "cell_type": "code",
      "metadata": {
        "id": "iy4TlcOGAy8i",
        "colab_type": "code",
        "colab": {
          "resources": {
            "http://localhost:8080/nbextensions/google.colab/files.js": {
              "data": "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",
              "ok": true,
              "headers": [
                [
                  "content-type",
                  "application/javascript"
                ]
              ],
              "status": 200,
              "status_text": ""
            }
          },
          "base_uri": "https://localhost:8080/",
          "height": 176
        },
        "outputId": "2fd2a615-450a-4a9e-aec9-54cd8470c4f0"
      },
      "source": [
        "from google.colab import files\n",
        "uploaded = files.upload()"
      ],
      "execution_count": 3,
      "outputs": [
        {
          "output_type": "display_data",
          "data": {
            "text/html": [
              "\n",
              "     <input type=\"file\" id=\"files-3a74333a-d32b-49c2-8a54-0256ef86c90b\" name=\"files[]\" multiple disabled />\n",
              "     <output id=\"result-3a74333a-d32b-49c2-8a54-0256ef86c90b\">\n",
              "      Upload widget is only available when the cell has been executed in the\n",
              "      current browser session. Please rerun this cell to enable.\n",
              "      </output>\n",
              "      <script src=\"/nbextensions/google.colab/files.js\"></script> "
            ],
            "text/plain": [
              "<IPython.core.display.HTML object>"
            ]
          },
          "metadata": {
            "tags": []
          }
        },
        {
          "output_type": "stream",
          "text": [
            "Saving b.csv to b.csv\n",
            "Saving bt.csv to bt.csv\n",
            "Saving e.csv to e.csv\n",
            "Saving et.csv to et.csv\n"
          ],
          "name": "stdout"
        }
      ]
    },
    {
      "cell_type": "code",
      "metadata": {
        "id": "YqodRV87BCs7",
        "colab_type": "code",
        "colab": {
          "base_uri": "https://localhost:8080/",
          "height": 85
        },
        "outputId": "8563f0fc-299c-418d-cd4c-4f6d69e8217f"
      },
      "source": [
        "for fn in uploaded.keys():\n",
        "  print('User uploaded file \"{name}\" with length {length} bytes'.format(name=fn, length=len(uploaded[fn])))"
      ],
      "execution_count": 4,
      "outputs": [
        {
          "output_type": "stream",
          "text": [
            "User uploaded file \"b.csv\" with length 722688 bytes\n",
            "User uploaded file \"bt.csv\" with length 69522 bytes\n",
            "User uploaded file \"e.csv\" with length 72977 bytes\n",
            "User uploaded file \"et.csv\" with length 69351 bytes\n"
          ],
          "name": "stdout"
        }
      ]
    },
    {
      "cell_type": "markdown",
      "metadata": {
        "id": "w9gXeG1jAIJX",
        "colab_type": "text"
      },
      "source": [
        "## Reading Data"
      ]
    },
    {
      "cell_type": "code",
      "metadata": {
        "id": "C8ABW5UmBgBR",
        "colab_type": "code",
        "colab": {
          "base_uri": "https://localhost:8080/",
          "height": 493
        },
        "outputId": "1009c249-95c9-4c37-dd63-e8849c07c465"
      },
      "source": [
        "import pandas as pd\n",
        "import io\n",
        "df1 = pd.read_csv(io.StringIO(uploaded['b.csv'].decode('utf-8')))\n",
        "print(df1)\n",
        "df2 = pd.read_csv(io.StringIO(uploaded['e.csv'].decode('utf-8')))\n",
        "print(df2)"
      ],
      "execution_count": 5,
      "outputs": [
        {
          "output_type": "stream",
          "text": [
            "             S1        S2         S3  ...       S12        S13  signal\n",
            "0     21.679432  1.504479  -9.957744  ...  0.328209  -8.071477  Bangla\n",
            "1     22.317693  0.287187  -9.879319  ...  2.796100 -14.148841  Bangla\n",
            "2     22.532872  0.758670  -9.888254  ...  3.681292 -12.629527  Bangla\n",
            "3     22.743923  0.901887 -10.181835  ... -0.033846 -13.066207  Bangla\n",
            "4     22.805387  1.342649  -9.418506  ... -0.698241 -14.182394  Bangla\n",
            "...         ...       ...        ...  ...       ...        ...     ...\n",
            "4314  22.546971  2.160500  -9.836560  ...  0.844142   0.355255  Bangla\n",
            "4315  22.151003  2.511947  -9.439595  ... -0.161824  -0.121897  Bangla\n",
            "4316  22.018945  2.603444  -9.315688  ...  3.105475  -1.804967  Bangla\n",
            "4317  22.285112  2.764023  -9.123929  ...  3.480604  -1.945926  Bangla\n",
            "4318  22.214383  2.308176  -9.880267  ...  1.569070  -4.970707  Bangla\n",
            "\n",
            "[4319 rows x 14 columns]\n",
            "            S1        S2         S3  ...       S12       S13   signal\n",
            "0    22.737841  2.399196 -10.172267  ...  4.119467 -0.361488  English\n",
            "1    22.952436  2.245480 -10.264699  ...  3.148670 -0.091942  English\n",
            "2    22.908935  2.616482  -9.529749  ...  0.872314  0.510450  English\n",
            "3    22.874865  2.777719  -9.322682  ... -0.292973 -1.814406  English\n",
            "4    22.951451  2.940011  -9.315593  ...  0.052298 -1.191790  English\n",
            "..         ...       ...        ...  ...       ...       ...      ...\n",
            "426  23.043558  2.309610  -9.500446  ...  5.016231  6.676602  English\n",
            "427  23.100006  2.127406  -9.473743  ...  5.457447  7.733076  English\n",
            "428  23.029893  2.270314  -9.276543  ...  5.344738  7.897555  English\n",
            "429  22.948504  2.551206  -8.948374  ...  3.511363  7.457604  English\n",
            "430  23.061913  1.940424  -8.938372  ...  3.566904  9.495983  English\n",
            "\n",
            "[431 rows x 14 columns]\n"
          ],
          "name": "stdout"
        }
      ]
    },
    {
      "cell_type": "code",
      "metadata": {
        "id": "g__W-_aTAIJY",
        "colab_type": "code",
        "colab": {
          "base_uri": "https://localhost:8080/",
          "height": 34
        },
        "outputId": "e40184c8-8c81-481b-e272-c7eeec96f3d8"
      },
      "source": [
        "import pandas as pd\n",
        "import io\n",
        "import requests\n",
        "import numpy as np\n",
        "import os\n",
        "from sklearn.model_selection import train_test_split\n",
        "from sklearn import metrics\n",
        "from keras.models import Sequential\n",
        "from keras.layers.core import Dense, Activation\n",
        "from keras.callbacks import EarlyStopping\n",
        "\n",
        "#path = \"./data/\"\n",
        "    \n",
        "#filename1 = os.path.join(path,\"Clean_norm_250ms.csv\")    \n",
        "#df1 = pd.read_csv('b.csv',na_values=['NA','?'])\n",
        "\n",
        "#filename2 = os.path.join(path,\"Noisy_norm_250ms.csv\")    \n",
        "#df2 = pd.read_csv('e.csv',na_values=['NA','?'])\n",
        "frames = [df1, df2]\n",
        "df = pd.concat(frames, keys=['x', 'y'])\n",
        "\n",
        "# Shuffle\n",
        "np.random.seed(42)\n",
        "df = df.reindex(np.random.permutation(df.index))\n",
        "df.reset_index(inplace=True, drop=True)\n",
        "\n",
        "\n",
        "signal = encode_text_index(df,\"signal\")\n",
        "x,y = to_xy(df,\"signal\")\n",
        "\n",
        "# Keep a 20% holdout\n",
        "x_main, x_holdout, y_main, y_holdout = train_test_split(\n",
        "    x, y, test_size=0.2) \n",
        "\n",
        "\n",
        "# Split into train/test\n",
        "x_train, x_test, y_train, y_test = train_test_split(\n",
        "    x_main, y_main, test_size=0.2, random_state=42)"
      ],
      "execution_count": 6,
      "outputs": [
        {
          "output_type": "stream",
          "text": [
            "/usr/local/lib/python3.6/dist-packages/ipykernel_launcher.py:78: FutureWarning: Method .as_matrix will be removed in a future version. Use .values instead.\n"
          ],
          "name": "stderr"
        }
      ]
    },
    {
      "cell_type": "code",
      "metadata": {
        "id": "jnEI0FX-AIJc",
        "colab_type": "code",
        "colab": {
          "base_uri": "https://localhost:8080/",
          "height": 419
        },
        "outputId": "c8588b68-3771-4a9c-822c-7d874e7e0ef0"
      },
      "source": [
        "df1\n"
      ],
      "execution_count": 7,
      "outputs": [
        {
          "output_type": "execute_result",
          "data": {
            "text/html": [
              "<div>\n",
              "<style scoped>\n",
              "    .dataframe tbody tr th:only-of-type {\n",
              "        vertical-align: middle;\n",
              "    }\n",
              "\n",
              "    .dataframe tbody tr th {\n",
              "        vertical-align: top;\n",
              "    }\n",
              "\n",
              "    .dataframe thead th {\n",
              "        text-align: right;\n",
              "    }\n",
              "</style>\n",
              "<table border=\"1\" class=\"dataframe\">\n",
              "  <thead>\n",
              "    <tr style=\"text-align: right;\">\n",
              "      <th></th>\n",
              "      <th>S1</th>\n",
              "      <th>S2</th>\n",
              "      <th>S3</th>\n",
              "      <th>S4</th>\n",
              "      <th>S5</th>\n",
              "      <th>S6</th>\n",
              "      <th>S7</th>\n",
              "      <th>S8</th>\n",
              "      <th>S9</th>\n",
              "      <th>S10</th>\n",
              "      <th>S11</th>\n",
              "      <th>S12</th>\n",
              "      <th>S13</th>\n",
              "      <th>signal</th>\n",
              "    </tr>\n",
              "  </thead>\n",
              "  <tbody>\n",
              "    <tr>\n",
              "      <th>0</th>\n",
              "      <td>21.679432</td>\n",
              "      <td>1.504479</td>\n",
              "      <td>-9.957744</td>\n",
              "      <td>6.751679</td>\n",
              "      <td>-6.002940</td>\n",
              "      <td>6.807267</td>\n",
              "      <td>-2.029461</td>\n",
              "      <td>13.809511</td>\n",
              "      <td>9.941748</td>\n",
              "      <td>16.909974</td>\n",
              "      <td>5.348232</td>\n",
              "      <td>0.328209</td>\n",
              "      <td>-8.071477</td>\n",
              "      <td>Bangla</td>\n",
              "    </tr>\n",
              "    <tr>\n",
              "      <th>1</th>\n",
              "      <td>22.317693</td>\n",
              "      <td>0.287187</td>\n",
              "      <td>-9.879319</td>\n",
              "      <td>7.738654</td>\n",
              "      <td>-6.140203</td>\n",
              "      <td>7.362541</td>\n",
              "      <td>1.890642</td>\n",
              "      <td>17.393305</td>\n",
              "      <td>16.327391</td>\n",
              "      <td>24.916220</td>\n",
              "      <td>15.661765</td>\n",
              "      <td>2.796100</td>\n",
              "      <td>-14.148841</td>\n",
              "      <td>Bangla</td>\n",
              "    </tr>\n",
              "    <tr>\n",
              "      <th>2</th>\n",
              "      <td>22.532872</td>\n",
              "      <td>0.758670</td>\n",
              "      <td>-9.888254</td>\n",
              "      <td>8.185273</td>\n",
              "      <td>-5.043289</td>\n",
              "      <td>8.578440</td>\n",
              "      <td>0.975402</td>\n",
              "      <td>15.029722</td>\n",
              "      <td>13.541073</td>\n",
              "      <td>22.887587</td>\n",
              "      <td>13.270690</td>\n",
              "      <td>3.681292</td>\n",
              "      <td>-12.629527</td>\n",
              "      <td>Bangla</td>\n",
              "    </tr>\n",
              "    <tr>\n",
              "      <th>3</th>\n",
              "      <td>22.743923</td>\n",
              "      <td>0.901887</td>\n",
              "      <td>-10.181835</td>\n",
              "      <td>7.861210</td>\n",
              "      <td>-5.523244</td>\n",
              "      <td>9.158475</td>\n",
              "      <td>1.240076</td>\n",
              "      <td>14.818314</td>\n",
              "      <td>9.953380</td>\n",
              "      <td>18.919487</td>\n",
              "      <td>9.761265</td>\n",
              "      <td>-0.033846</td>\n",
              "      <td>-13.066207</td>\n",
              "      <td>Bangla</td>\n",
              "    </tr>\n",
              "    <tr>\n",
              "      <th>4</th>\n",
              "      <td>22.805387</td>\n",
              "      <td>1.342649</td>\n",
              "      <td>-9.418506</td>\n",
              "      <td>6.871316</td>\n",
              "      <td>-6.178653</td>\n",
              "      <td>7.622323</td>\n",
              "      <td>2.249028</td>\n",
              "      <td>15.520012</td>\n",
              "      <td>9.847824</td>\n",
              "      <td>19.792311</td>\n",
              "      <td>14.239703</td>\n",
              "      <td>-0.698241</td>\n",
              "      <td>-14.182394</td>\n",
              "      <td>Bangla</td>\n",
              "    </tr>\n",
              "    <tr>\n",
              "      <th>...</th>\n",
              "      <td>...</td>\n",
              "      <td>...</td>\n",
              "      <td>...</td>\n",
              "      <td>...</td>\n",
              "      <td>...</td>\n",
              "      <td>...</td>\n",
              "      <td>...</td>\n",
              "      <td>...</td>\n",
              "      <td>...</td>\n",
              "      <td>...</td>\n",
              "      <td>...</td>\n",
              "      <td>...</td>\n",
              "      <td>...</td>\n",
              "      <td>...</td>\n",
              "    </tr>\n",
              "    <tr>\n",
              "      <th>4314</th>\n",
              "      <td>22.546971</td>\n",
              "      <td>2.160500</td>\n",
              "      <td>-9.836560</td>\n",
              "      <td>6.929788</td>\n",
              "      <td>-7.864586</td>\n",
              "      <td>6.985059</td>\n",
              "      <td>-3.295849</td>\n",
              "      <td>3.538401</td>\n",
              "      <td>-8.700346</td>\n",
              "      <td>-3.784008</td>\n",
              "      <td>-8.629158</td>\n",
              "      <td>0.844142</td>\n",
              "      <td>0.355255</td>\n",
              "      <td>Bangla</td>\n",
              "    </tr>\n",
              "    <tr>\n",
              "      <th>4315</th>\n",
              "      <td>22.151003</td>\n",
              "      <td>2.511947</td>\n",
              "      <td>-9.439595</td>\n",
              "      <td>7.880640</td>\n",
              "      <td>-7.551974</td>\n",
              "      <td>6.231159</td>\n",
              "      <td>-3.677819</td>\n",
              "      <td>6.861044</td>\n",
              "      <td>-6.599741</td>\n",
              "      <td>-2.335452</td>\n",
              "      <td>-5.473506</td>\n",
              "      <td>-0.161824</td>\n",
              "      <td>-0.121897</td>\n",
              "      <td>Bangla</td>\n",
              "    </tr>\n",
              "    <tr>\n",
              "      <th>4316</th>\n",
              "      <td>22.018945</td>\n",
              "      <td>2.603444</td>\n",
              "      <td>-9.315688</td>\n",
              "      <td>9.468042</td>\n",
              "      <td>-5.692170</td>\n",
              "      <td>7.370515</td>\n",
              "      <td>-6.362984</td>\n",
              "      <td>8.010874</td>\n",
              "      <td>-6.433576</td>\n",
              "      <td>-5.195874</td>\n",
              "      <td>-11.393312</td>\n",
              "      <td>3.105475</td>\n",
              "      <td>-1.804967</td>\n",
              "      <td>Bangla</td>\n",
              "    </tr>\n",
              "    <tr>\n",
              "      <th>4317</th>\n",
              "      <td>22.285112</td>\n",
              "      <td>2.764023</td>\n",
              "      <td>-9.123929</td>\n",
              "      <td>9.345041</td>\n",
              "      <td>-5.697530</td>\n",
              "      <td>6.962715</td>\n",
              "      <td>-6.329002</td>\n",
              "      <td>8.447740</td>\n",
              "      <td>-2.695686</td>\n",
              "      <td>-0.722245</td>\n",
              "      <td>-9.054281</td>\n",
              "      <td>3.480604</td>\n",
              "      <td>-1.945926</td>\n",
              "      <td>Bangla</td>\n",
              "    </tr>\n",
              "    <tr>\n",
              "      <th>4318</th>\n",
              "      <td>22.214383</td>\n",
              "      <td>2.308176</td>\n",
              "      <td>-9.880267</td>\n",
              "      <td>7.920375</td>\n",
              "      <td>-5.508975</td>\n",
              "      <td>7.983038</td>\n",
              "      <td>-4.095980</td>\n",
              "      <td>9.093023</td>\n",
              "      <td>1.264502</td>\n",
              "      <td>7.420382</td>\n",
              "      <td>-3.366185</td>\n",
              "      <td>1.569070</td>\n",
              "      <td>-4.970707</td>\n",
              "      <td>Bangla</td>\n",
              "    </tr>\n",
              "  </tbody>\n",
              "</table>\n",
              "<p>4319 rows × 14 columns</p>\n",
              "</div>"
            ],
            "text/plain": [
              "             S1        S2         S3  ...       S12        S13  signal\n",
              "0     21.679432  1.504479  -9.957744  ...  0.328209  -8.071477  Bangla\n",
              "1     22.317693  0.287187  -9.879319  ...  2.796100 -14.148841  Bangla\n",
              "2     22.532872  0.758670  -9.888254  ...  3.681292 -12.629527  Bangla\n",
              "3     22.743923  0.901887 -10.181835  ... -0.033846 -13.066207  Bangla\n",
              "4     22.805387  1.342649  -9.418506  ... -0.698241 -14.182394  Bangla\n",
              "...         ...       ...        ...  ...       ...        ...     ...\n",
              "4314  22.546971  2.160500  -9.836560  ...  0.844142   0.355255  Bangla\n",
              "4315  22.151003  2.511947  -9.439595  ... -0.161824  -0.121897  Bangla\n",
              "4316  22.018945  2.603444  -9.315688  ...  3.105475  -1.804967  Bangla\n",
              "4317  22.285112  2.764023  -9.123929  ...  3.480604  -1.945926  Bangla\n",
              "4318  22.214383  2.308176  -9.880267  ...  1.569070  -4.970707  Bangla\n",
              "\n",
              "[4319 rows x 14 columns]"
            ]
          },
          "metadata": {
            "tags": []
          },
          "execution_count": 7
        }
      ]
    },
    {
      "cell_type": "code",
      "metadata": {
        "id": "nkhRQujeAIJg",
        "colab_type": "code",
        "colab": {
          "base_uri": "https://localhost:8080/",
          "height": 419
        },
        "outputId": "6efec38f-70ac-44bd-a63e-d84fd549dacd"
      },
      "source": [
        "df2"
      ],
      "execution_count": 8,
      "outputs": [
        {
          "output_type": "execute_result",
          "data": {
            "text/html": [
              "<div>\n",
              "<style scoped>\n",
              "    .dataframe tbody tr th:only-of-type {\n",
              "        vertical-align: middle;\n",
              "    }\n",
              "\n",
              "    .dataframe tbody tr th {\n",
              "        vertical-align: top;\n",
              "    }\n",
              "\n",
              "    .dataframe thead th {\n",
              "        text-align: right;\n",
              "    }\n",
              "</style>\n",
              "<table border=\"1\" class=\"dataframe\">\n",
              "  <thead>\n",
              "    <tr style=\"text-align: right;\">\n",
              "      <th></th>\n",
              "      <th>S1</th>\n",
              "      <th>S2</th>\n",
              "      <th>S3</th>\n",
              "      <th>S4</th>\n",
              "      <th>S5</th>\n",
              "      <th>S6</th>\n",
              "      <th>S7</th>\n",
              "      <th>S8</th>\n",
              "      <th>S9</th>\n",
              "      <th>S10</th>\n",
              "      <th>S11</th>\n",
              "      <th>S12</th>\n",
              "      <th>S13</th>\n",
              "      <th>signal</th>\n",
              "    </tr>\n",
              "  </thead>\n",
              "  <tbody>\n",
              "    <tr>\n",
              "      <th>0</th>\n",
              "      <td>22.737841</td>\n",
              "      <td>2.399196</td>\n",
              "      <td>-10.172267</td>\n",
              "      <td>6.645064</td>\n",
              "      <td>-6.872575</td>\n",
              "      <td>6.173310</td>\n",
              "      <td>-6.367689</td>\n",
              "      <td>5.074881</td>\n",
              "      <td>-4.829503</td>\n",
              "      <td>3.308242</td>\n",
              "      <td>-3.202369</td>\n",
              "      <td>4.119467</td>\n",
              "      <td>-0.361488</td>\n",
              "      <td>English</td>\n",
              "    </tr>\n",
              "    <tr>\n",
              "      <th>1</th>\n",
              "      <td>22.952436</td>\n",
              "      <td>2.245480</td>\n",
              "      <td>-10.264699</td>\n",
              "      <td>6.126787</td>\n",
              "      <td>-7.193143</td>\n",
              "      <td>6.122646</td>\n",
              "      <td>-6.749632</td>\n",
              "      <td>3.141643</td>\n",
              "      <td>-7.212091</td>\n",
              "      <td>1.244995</td>\n",
              "      <td>-5.221063</td>\n",
              "      <td>3.148670</td>\n",
              "      <td>-0.091942</td>\n",
              "      <td>English</td>\n",
              "    </tr>\n",
              "    <tr>\n",
              "      <th>2</th>\n",
              "      <td>22.908935</td>\n",
              "      <td>2.616482</td>\n",
              "      <td>-9.529749</td>\n",
              "      <td>6.984849</td>\n",
              "      <td>-7.476983</td>\n",
              "      <td>5.747671</td>\n",
              "      <td>-5.871353</td>\n",
              "      <td>4.108955</td>\n",
              "      <td>-8.163463</td>\n",
              "      <td>-0.764533</td>\n",
              "      <td>-4.238645</td>\n",
              "      <td>0.872314</td>\n",
              "      <td>0.510450</td>\n",
              "      <td>English</td>\n",
              "    </tr>\n",
              "    <tr>\n",
              "      <th>3</th>\n",
              "      <td>22.874865</td>\n",
              "      <td>2.777719</td>\n",
              "      <td>-9.322682</td>\n",
              "      <td>8.076055</td>\n",
              "      <td>-7.284295</td>\n",
              "      <td>6.788900</td>\n",
              "      <td>-4.189213</td>\n",
              "      <td>5.714784</td>\n",
              "      <td>-5.569621</td>\n",
              "      <td>1.797621</td>\n",
              "      <td>-2.860533</td>\n",
              "      <td>-0.292973</td>\n",
              "      <td>-1.814406</td>\n",
              "      <td>English</td>\n",
              "    </tr>\n",
              "    <tr>\n",
              "      <th>4</th>\n",
              "      <td>22.951451</td>\n",
              "      <td>2.940011</td>\n",
              "      <td>-9.315593</td>\n",
              "      <td>7.364319</td>\n",
              "      <td>-6.535519</td>\n",
              "      <td>6.619137</td>\n",
              "      <td>-5.754375</td>\n",
              "      <td>4.648535</td>\n",
              "      <td>-5.878526</td>\n",
              "      <td>1.546655</td>\n",
              "      <td>-5.893608</td>\n",
              "      <td>0.052298</td>\n",
              "      <td>-1.191790</td>\n",
              "      <td>English</td>\n",
              "    </tr>\n",
              "    <tr>\n",
              "      <th>...</th>\n",
              "      <td>...</td>\n",
              "      <td>...</td>\n",
              "      <td>...</td>\n",
              "      <td>...</td>\n",
              "      <td>...</td>\n",
              "      <td>...</td>\n",
              "      <td>...</td>\n",
              "      <td>...</td>\n",
              "      <td>...</td>\n",
              "      <td>...</td>\n",
              "      <td>...</td>\n",
              "      <td>...</td>\n",
              "      <td>...</td>\n",
              "      <td>...</td>\n",
              "    </tr>\n",
              "    <tr>\n",
              "      <th>426</th>\n",
              "      <td>23.043558</td>\n",
              "      <td>2.309610</td>\n",
              "      <td>-9.500446</td>\n",
              "      <td>6.998507</td>\n",
              "      <td>-7.751724</td>\n",
              "      <td>7.535131</td>\n",
              "      <td>-5.809993</td>\n",
              "      <td>-0.547308</td>\n",
              "      <td>-14.417321</td>\n",
              "      <td>-5.815040</td>\n",
              "      <td>-10.556533</td>\n",
              "      <td>5.016231</td>\n",
              "      <td>6.676602</td>\n",
              "      <td>English</td>\n",
              "    </tr>\n",
              "    <tr>\n",
              "      <th>427</th>\n",
              "      <td>23.100006</td>\n",
              "      <td>2.127406</td>\n",
              "      <td>-9.473743</td>\n",
              "      <td>7.129916</td>\n",
              "      <td>-8.004659</td>\n",
              "      <td>7.428843</td>\n",
              "      <td>-5.568293</td>\n",
              "      <td>-2.797925</td>\n",
              "      <td>-15.565903</td>\n",
              "      <td>-8.112391</td>\n",
              "      <td>-13.351370</td>\n",
              "      <td>5.457447</td>\n",
              "      <td>7.733076</td>\n",
              "      <td>English</td>\n",
              "    </tr>\n",
              "    <tr>\n",
              "      <th>428</th>\n",
              "      <td>23.029893</td>\n",
              "      <td>2.270314</td>\n",
              "      <td>-9.276543</td>\n",
              "      <td>7.446392</td>\n",
              "      <td>-6.851801</td>\n",
              "      <td>8.175288</td>\n",
              "      <td>-5.967924</td>\n",
              "      <td>-2.290491</td>\n",
              "      <td>-16.278764</td>\n",
              "      <td>-8.462522</td>\n",
              "      <td>-14.115802</td>\n",
              "      <td>5.344738</td>\n",
              "      <td>7.897555</td>\n",
              "      <td>English</td>\n",
              "    </tr>\n",
              "    <tr>\n",
              "      <th>429</th>\n",
              "      <td>22.948504</td>\n",
              "      <td>2.551206</td>\n",
              "      <td>-8.948374</td>\n",
              "      <td>7.306802</td>\n",
              "      <td>-7.185000</td>\n",
              "      <td>5.619251</td>\n",
              "      <td>-9.715909</td>\n",
              "      <td>-1.108288</td>\n",
              "      <td>-15.741532</td>\n",
              "      <td>-7.912359</td>\n",
              "      <td>-12.738061</td>\n",
              "      <td>3.511363</td>\n",
              "      <td>7.457604</td>\n",
              "      <td>English</td>\n",
              "    </tr>\n",
              "    <tr>\n",
              "      <th>430</th>\n",
              "      <td>23.061913</td>\n",
              "      <td>1.940424</td>\n",
              "      <td>-8.938372</td>\n",
              "      <td>7.371608</td>\n",
              "      <td>-8.971345</td>\n",
              "      <td>3.888818</td>\n",
              "      <td>-10.853964</td>\n",
              "      <td>-0.846714</td>\n",
              "      <td>-16.582673</td>\n",
              "      <td>-11.361416</td>\n",
              "      <td>-14.726312</td>\n",
              "      <td>3.566904</td>\n",
              "      <td>9.495983</td>\n",
              "      <td>English</td>\n",
              "    </tr>\n",
              "  </tbody>\n",
              "</table>\n",
              "<p>431 rows × 14 columns</p>\n",
              "</div>"
            ],
            "text/plain": [
              "            S1        S2         S3  ...       S12       S13   signal\n",
              "0    22.737841  2.399196 -10.172267  ...  4.119467 -0.361488  English\n",
              "1    22.952436  2.245480 -10.264699  ...  3.148670 -0.091942  English\n",
              "2    22.908935  2.616482  -9.529749  ...  0.872314  0.510450  English\n",
              "3    22.874865  2.777719  -9.322682  ... -0.292973 -1.814406  English\n",
              "4    22.951451  2.940011  -9.315593  ...  0.052298 -1.191790  English\n",
              "..         ...       ...        ...  ...       ...       ...      ...\n",
              "426  23.043558  2.309610  -9.500446  ...  5.016231  6.676602  English\n",
              "427  23.100006  2.127406  -9.473743  ...  5.457447  7.733076  English\n",
              "428  23.029893  2.270314  -9.276543  ...  5.344738  7.897555  English\n",
              "429  22.948504  2.551206  -8.948374  ...  3.511363  7.457604  English\n",
              "430  23.061913  1.940424  -8.938372  ...  3.566904  9.495983  English\n",
              "\n",
              "[431 rows x 14 columns]"
            ]
          },
          "metadata": {
            "tags": []
          },
          "execution_count": 8
        }
      ]
    },
    {
      "cell_type": "code",
      "metadata": {
        "id": "Mjmk7sVEAIJk",
        "colab_type": "code",
        "colab": {
          "base_uri": "https://localhost:8080/",
          "height": 419
        },
        "outputId": "83b3a465-ae93-41b7-ee1a-0060861ed278"
      },
      "source": [
        "df"
      ],
      "execution_count": 9,
      "outputs": [
        {
          "output_type": "execute_result",
          "data": {
            "text/html": [
              "<div>\n",
              "<style scoped>\n",
              "    .dataframe tbody tr th:only-of-type {\n",
              "        vertical-align: middle;\n",
              "    }\n",
              "\n",
              "    .dataframe tbody tr th {\n",
              "        vertical-align: top;\n",
              "    }\n",
              "\n",
              "    .dataframe thead th {\n",
              "        text-align: right;\n",
              "    }\n",
              "</style>\n",
              "<table border=\"1\" class=\"dataframe\">\n",
              "  <thead>\n",
              "    <tr style=\"text-align: right;\">\n",
              "      <th></th>\n",
              "      <th>S1</th>\n",
              "      <th>S2</th>\n",
              "      <th>S3</th>\n",
              "      <th>S4</th>\n",
              "      <th>S5</th>\n",
              "      <th>S6</th>\n",
              "      <th>S7</th>\n",
              "      <th>S8</th>\n",
              "      <th>S9</th>\n",
              "      <th>S10</th>\n",
              "      <th>S11</th>\n",
              "      <th>S12</th>\n",
              "      <th>S13</th>\n",
              "      <th>signal</th>\n",
              "    </tr>\n",
              "  </thead>\n",
              "  <tbody>\n",
              "    <tr>\n",
              "      <th>0</th>\n",
              "      <td>21.431422</td>\n",
              "      <td>1.698966</td>\n",
              "      <td>-10.643072</td>\n",
              "      <td>7.310075</td>\n",
              "      <td>-6.323945</td>\n",
              "      <td>7.511031</td>\n",
              "      <td>-3.531273</td>\n",
              "      <td>11.067076</td>\n",
              "      <td>3.948641</td>\n",
              "      <td>12.525763</td>\n",
              "      <td>4.673673</td>\n",
              "      <td>4.656686</td>\n",
              "      <td>-3.938809</td>\n",
              "      <td>0</td>\n",
              "    </tr>\n",
              "    <tr>\n",
              "      <th>1</th>\n",
              "      <td>23.171409</td>\n",
              "      <td>2.339474</td>\n",
              "      <td>-8.919759</td>\n",
              "      <td>8.545126</td>\n",
              "      <td>-6.173793</td>\n",
              "      <td>7.615995</td>\n",
              "      <td>-1.214934</td>\n",
              "      <td>10.554912</td>\n",
              "      <td>5.539230</td>\n",
              "      <td>14.743706</td>\n",
              "      <td>7.652602</td>\n",
              "      <td>3.170576</td>\n",
              "      <td>-9.225575</td>\n",
              "      <td>0</td>\n",
              "    </tr>\n",
              "    <tr>\n",
              "      <th>2</th>\n",
              "      <td>21.708391</td>\n",
              "      <td>1.878296</td>\n",
              "      <td>-10.049256</td>\n",
              "      <td>7.968833</td>\n",
              "      <td>-5.836865</td>\n",
              "      <td>7.749417</td>\n",
              "      <td>-2.842844</td>\n",
              "      <td>11.529280</td>\n",
              "      <td>3.727841</td>\n",
              "      <td>10.641076</td>\n",
              "      <td>2.424899</td>\n",
              "      <td>3.360277</td>\n",
              "      <td>-6.476902</td>\n",
              "      <td>0</td>\n",
              "    </tr>\n",
              "    <tr>\n",
              "      <th>3</th>\n",
              "      <td>22.083232</td>\n",
              "      <td>1.379823</td>\n",
              "      <td>-10.862589</td>\n",
              "      <td>5.790507</td>\n",
              "      <td>-6.324815</td>\n",
              "      <td>7.923063</td>\n",
              "      <td>-2.936985</td>\n",
              "      <td>6.215079</td>\n",
              "      <td>-8.304855</td>\n",
              "      <td>0.598557</td>\n",
              "      <td>-0.231374</td>\n",
              "      <td>0.659592</td>\n",
              "      <td>-2.570514</td>\n",
              "      <td>0</td>\n",
              "    </tr>\n",
              "    <tr>\n",
              "      <th>4</th>\n",
              "      <td>22.759584</td>\n",
              "      <td>2.463733</td>\n",
              "      <td>-9.650179</td>\n",
              "      <td>7.595554</td>\n",
              "      <td>-5.880103</td>\n",
              "      <td>7.809443</td>\n",
              "      <td>-3.783274</td>\n",
              "      <td>8.046298</td>\n",
              "      <td>-0.491842</td>\n",
              "      <td>8.704634</td>\n",
              "      <td>1.198062</td>\n",
              "      <td>2.726013</td>\n",
              "      <td>-6.948272</td>\n",
              "      <td>0</td>\n",
              "    </tr>\n",
              "    <tr>\n",
              "      <th>...</th>\n",
              "      <td>...</td>\n",
              "      <td>...</td>\n",
              "      <td>...</td>\n",
              "      <td>...</td>\n",
              "      <td>...</td>\n",
              "      <td>...</td>\n",
              "      <td>...</td>\n",
              "      <td>...</td>\n",
              "      <td>...</td>\n",
              "      <td>...</td>\n",
              "      <td>...</td>\n",
              "      <td>...</td>\n",
              "      <td>...</td>\n",
              "      <td>...</td>\n",
              "    </tr>\n",
              "    <tr>\n",
              "      <th>4745</th>\n",
              "      <td>22.500313</td>\n",
              "      <td>3.021616</td>\n",
              "      <td>-8.959946</td>\n",
              "      <td>7.283127</td>\n",
              "      <td>-5.296399</td>\n",
              "      <td>6.150497</td>\n",
              "      <td>-5.877882</td>\n",
              "      <td>7.044492</td>\n",
              "      <td>-3.696115</td>\n",
              "      <td>2.720239</td>\n",
              "      <td>-2.052870</td>\n",
              "      <td>2.600307</td>\n",
              "      <td>-0.767072</td>\n",
              "      <td>1</td>\n",
              "    </tr>\n",
              "    <tr>\n",
              "      <th>4746</th>\n",
              "      <td>23.153189</td>\n",
              "      <td>2.012166</td>\n",
              "      <td>-10.401211</td>\n",
              "      <td>5.884758</td>\n",
              "      <td>-7.254787</td>\n",
              "      <td>6.270530</td>\n",
              "      <td>-5.453554</td>\n",
              "      <td>3.492159</td>\n",
              "      <td>-2.021370</td>\n",
              "      <td>5.730796</td>\n",
              "      <td>-4.490363</td>\n",
              "      <td>2.684757</td>\n",
              "      <td>-4.510971</td>\n",
              "      <td>0</td>\n",
              "    </tr>\n",
              "    <tr>\n",
              "      <th>4747</th>\n",
              "      <td>22.711625</td>\n",
              "      <td>0.548140</td>\n",
              "      <td>-12.147411</td>\n",
              "      <td>4.239765</td>\n",
              "      <td>-4.329802</td>\n",
              "      <td>10.117807</td>\n",
              "      <td>0.370657</td>\n",
              "      <td>16.079238</td>\n",
              "      <td>7.618538</td>\n",
              "      <td>15.482690</td>\n",
              "      <td>4.626398</td>\n",
              "      <td>3.592800</td>\n",
              "      <td>-5.920666</td>\n",
              "      <td>0</td>\n",
              "    </tr>\n",
              "    <tr>\n",
              "      <th>4748</th>\n",
              "      <td>22.453490</td>\n",
              "      <td>2.381840</td>\n",
              "      <td>-10.032150</td>\n",
              "      <td>6.422973</td>\n",
              "      <td>-5.855068</td>\n",
              "      <td>7.967305</td>\n",
              "      <td>-3.871768</td>\n",
              "      <td>6.062451</td>\n",
              "      <td>-5.152344</td>\n",
              "      <td>4.339208</td>\n",
              "      <td>-1.293720</td>\n",
              "      <td>1.047551</td>\n",
              "      <td>-6.392112</td>\n",
              "      <td>0</td>\n",
              "    </tr>\n",
              "    <tr>\n",
              "      <th>4749</th>\n",
              "      <td>22.974206</td>\n",
              "      <td>1.689067</td>\n",
              "      <td>-10.458950</td>\n",
              "      <td>7.341450</td>\n",
              "      <td>-9.363823</td>\n",
              "      <td>3.838920</td>\n",
              "      <td>-8.281853</td>\n",
              "      <td>0.903620</td>\n",
              "      <td>-7.823409</td>\n",
              "      <td>-0.745210</td>\n",
              "      <td>-5.294785</td>\n",
              "      <td>2.808350</td>\n",
              "      <td>-0.738296</td>\n",
              "      <td>0</td>\n",
              "    </tr>\n",
              "  </tbody>\n",
              "</table>\n",
              "<p>4750 rows × 14 columns</p>\n",
              "</div>"
            ],
            "text/plain": [
              "             S1        S2         S3  ...       S12       S13  signal\n",
              "0     21.431422  1.698966 -10.643072  ...  4.656686 -3.938809       0\n",
              "1     23.171409  2.339474  -8.919759  ...  3.170576 -9.225575       0\n",
              "2     21.708391  1.878296 -10.049256  ...  3.360277 -6.476902       0\n",
              "3     22.083232  1.379823 -10.862589  ...  0.659592 -2.570514       0\n",
              "4     22.759584  2.463733  -9.650179  ...  2.726013 -6.948272       0\n",
              "...         ...       ...        ...  ...       ...       ...     ...\n",
              "4745  22.500313  3.021616  -8.959946  ...  2.600307 -0.767072       1\n",
              "4746  23.153189  2.012166 -10.401211  ...  2.684757 -4.510971       0\n",
              "4747  22.711625  0.548140 -12.147411  ...  3.592800 -5.920666       0\n",
              "4748  22.453490  2.381840 -10.032150  ...  1.047551 -6.392112       0\n",
              "4749  22.974206  1.689067 -10.458950  ...  2.808350 -0.738296       0\n",
              "\n",
              "[4750 rows x 14 columns]"
            ]
          },
          "metadata": {
            "tags": []
          },
          "execution_count": 9
        }
      ]
    },
    {
      "cell_type": "code",
      "metadata": {
        "id": "yRt3S87ZAIJo",
        "colab_type": "code",
        "colab": {}
      },
      "source": [
        "#scaler = preprocessing.StandardScaler().fit(x_train)\n"
      ],
      "execution_count": 0,
      "outputs": []
    },
    {
      "cell_type": "code",
      "metadata": {
        "id": "FekqHV8bAIJs",
        "colab_type": "code",
        "colab": {}
      },
      "source": [
        "#train = scaler.transform(x_train)  "
      ],
      "execution_count": 0,
      "outputs": []
    },
    {
      "cell_type": "code",
      "metadata": {
        "id": "JDWG1tvdAIJv",
        "colab_type": "code",
        "colab": {}
      },
      "source": [
        "#x_test = scaler.transform(x_test)"
      ],
      "execution_count": 0,
      "outputs": []
    },
    {
      "cell_type": "code",
      "metadata": {
        "id": "KotbNr5zAIJz",
        "colab_type": "code",
        "colab": {}
      },
      "source": [
        "#x_holdout= scaler.transform(x_holdout)"
      ],
      "execution_count": 0,
      "outputs": []
    },
    {
      "cell_type": "code",
      "metadata": {
        "id": "OgOsHqnDAIJ3",
        "colab_type": "code",
        "colab": {}
      },
      "source": [
        "\n"
      ],
      "execution_count": 0,
      "outputs": []
    },
    {
      "cell_type": "code",
      "metadata": {
        "id": "JzhCbG0hAIJ6",
        "colab_type": "code",
        "colab": {
          "base_uri": "https://localhost:8080/",
          "height": 34
        },
        "outputId": "71c3bc70-be3b-4cea-aad2-8003608dfa9a"
      },
      "source": [
        "x.shape"
      ],
      "execution_count": 13,
      "outputs": [
        {
          "output_type": "execute_result",
          "data": {
            "text/plain": [
              "(4750, 13)"
            ]
          },
          "metadata": {
            "tags": []
          },
          "execution_count": 13
        }
      ]
    },
    {
      "cell_type": "code",
      "metadata": {
        "id": "WKDVZjdLAIKB",
        "colab_type": "code",
        "colab": {
          "base_uri": "https://localhost:8080/",
          "height": 34
        },
        "outputId": "b9176fd7-14da-4c74-c122-f1b119519aa7"
      },
      "source": [
        "x_holdout.shape"
      ],
      "execution_count": 14,
      "outputs": [
        {
          "output_type": "execute_result",
          "data": {
            "text/plain": [
              "(950, 13)"
            ]
          },
          "metadata": {
            "tags": []
          },
          "execution_count": 14
        }
      ]
    },
    {
      "cell_type": "code",
      "metadata": {
        "id": "4Cs-dpvLAIKE",
        "colab_type": "code",
        "colab": {
          "base_uri": "https://localhost:8080/",
          "height": 34
        },
        "outputId": "be5b246b-868b-4034-c0a7-4db2e2e91d3c"
      },
      "source": [
        "x_test.shape"
      ],
      "execution_count": 15,
      "outputs": [
        {
          "output_type": "execute_result",
          "data": {
            "text/plain": [
              "(760, 13)"
            ]
          },
          "metadata": {
            "tags": []
          },
          "execution_count": 15
        }
      ]
    },
    {
      "cell_type": "code",
      "metadata": {
        "id": "kwJzDLbhAIKI",
        "colab_type": "code",
        "colab": {
          "base_uri": "https://localhost:8080/",
          "height": 34
        },
        "outputId": "384e879c-ad2a-4243-bd10-c3d83841b889"
      },
      "source": [
        "x_train.shape"
      ],
      "execution_count": 16,
      "outputs": [
        {
          "output_type": "execute_result",
          "data": {
            "text/plain": [
              "(3040, 13)"
            ]
          },
          "metadata": {
            "tags": []
          },
          "execution_count": 16
        }
      ]
    },
    {
      "cell_type": "code",
      "metadata": {
        "id": "88vRN1EhAIKM",
        "colab_type": "code",
        "colab": {}
      },
      "source": [
        ""
      ],
      "execution_count": 0,
      "outputs": []
    },
    {
      "cell_type": "markdown",
      "metadata": {
        "id": "hmlDS5w8AIKP",
        "colab_type": "text"
      },
      "source": [
        "## Define CNN"
      ]
    },
    {
      "cell_type": "code",
      "metadata": {
        "id": "htx-OfryAIKQ",
        "colab_type": "code",
        "colab": {}
      },
      "source": [
        "import keras\n",
        "from keras.models import Sequential\n",
        "from keras import layers\n",
        "from keras import backend as K\n",
        "from keras import optimizers\n",
        "import tensorflow as tf\n",
        "import time\n",
        "import pandas as pd\n",
        "import io\n",
        "import requests\n",
        "import numpy as np\n",
        "import os\n",
        "from sklearn.model_selection import train_test_split\n",
        "from sklearn import metrics\n",
        "from keras.callbacks import EarlyStopping\n",
        "from keras.callbacks import ModelCheckpoint\n",
        "from sklearn.model_selection import KFold\n",
        "\n",
        "import matplotlib.pyplot as plt\n",
        "from sklearn.metrics import confusion_matrix\n",
        "import time\n",
        "\n"
      ],
      "execution_count": 0,
      "outputs": []
    },
    {
      "cell_type": "code",
      "metadata": {
        "id": "4C39O04jAIKU",
        "colab_type": "code",
        "colab": {
          "base_uri": "https://localhost:8080/",
          "height": 1000
        },
        "outputId": "e33adab8-4c60-472b-b734-eabae01c2bce"
      },
      "source": [
        "batch_size = 1024\n",
        "num_classes = 2\n",
        "epochs = 10\n",
        "start_time = time.time()\n",
        "\n",
        "# Cross-validate\n",
        "kf = KFold(5)\n",
        "    \n",
        "oos_y = []\n",
        "oos_pred = []\n",
        "fold = 0\n",
        "plot_loss = np.empty ((0,epochs))\n",
        "plot_acc = np.empty ((0,epochs))\n",
        "\n",
        "for train, test in kf.split(x_main):\n",
        "    fold+=1\n",
        "    print(\"Fold #{}\".format(fold))\n",
        "        \n",
        "    x_train = x_main[train]\n",
        "    y_train = y_main[train]\n",
        "    x_test = x_main[test]\n",
        "    y_test = y_main[test]\n",
        "    \n",
        "    X_train = np.expand_dims(x_train, axis=2) # reshape (569, 30) to (569, 30, 1) \n",
        "\n",
        "   \n",
        "\n",
        "    model = Sequential()\n",
        "    model.add(layers.Conv1D(40,2, activation='relu', input_shape=(13,1)))\n",
        "    model.add(layers.Conv1D(40,2, activation='relu'))\n",
        "    model.add(layers.MaxPooling1D(strides=2, pool_size=2))\n",
        "    model.add(layers.Dropout(0.2))\n",
        "    model.add(layers.Conv1D(60,2, activation='relu'))\n",
        "    model.add(layers.Conv1D(60,2, activation='relu'))\n",
        "    \n",
        "\n",
        "    model.add(layers.Flatten())\n",
        "    model.add(layers.Dense(30))\n",
        "    model.add(layers.Activation('relu'))\n",
        "    #keras.layers.PReLU(alpha_initializer='zeros', alpha_regularizer=None, alpha_constraint=None, shared_axes=None)\n",
        "    model.add(layers.Dropout(0.2))\n",
        "    model.add(layers.Dense(10))\n",
        "    model.add(layers.Activation('relu'))\n",
        "    #keras.layers.PReLU(alpha_initializer='zeros', alpha_regularizer=None, alpha_constraint=None, shared_axes=None)\n",
        "    model.add(layers.Dropout(0.2))\n",
        "    model.add(layers.Dense(y_train.shape[1],activation='sigmoid')) # Output\n",
        "\n",
        "    model.compile(loss='binary_crossentropy',\n",
        "                  optimizer=keras.optimizers.Adam(lr=0.001),\n",
        "                  metrics=['accuracy'])\n",
        "\n",
        "    monitor = EarlyStopping(monitor='val_loss',\n",
        "                            min_delta=1e-3,\n",
        "                            patience=5,\n",
        "                            verbose=0,\n",
        "                            mode='auto')\n",
        "    checkpointer = ModelCheckpoint(filepath=\"best_weights.h5\",\n",
        "                                   verbose=2,\n",
        "                                   save_best_only=True) # save best model\n",
        "\n",
        "    \n",
        "\n",
        "    X_test = np.expand_dims(x_test, axis=2)\n",
        "    history = model.fit(X_train, y_train,\n",
        "                        batch_size=batch_size,\n",
        "                        epochs=epochs,\n",
        "                        #callbacks=[monitor],\n",
        "                        verbose=0,\n",
        "                        shuffle=True,\n",
        "                        validation_data=(X_test, y_test))\n",
        "    \n",
        "    \n",
        "\n",
        "\n",
        "\n",
        "    ####################\n",
        "    pred = model.predict(X_test)\n",
        "    \n",
        "    oos_y.append(y_test)\n",
        "    pred = np.argmax(pred,axis=1) # raw probabilities to chosen class (highest probability)\n",
        "    oos_pred.append(pred)        \n",
        "\n",
        "    # Measure this fold's accuracy\n",
        "    y_compare = np.argmax(y_test,axis=1) # For accuracy calculation\n",
        "    score = metrics.accuracy_score(y_compare, pred)\n",
        "    print(\"Fold score (accuracy): {}\".format(score))\n",
        "    \n",
        "    #######################\n",
        "    elapsed_time = time.time() - start_time\n",
        "    print(\"Elapsed time: {}\".format(hms_string(elapsed_time))) \n",
        "    \n",
        "    ###############################################\n",
        "    loss = history.history['loss']\n",
        "    #plt.plot(epochs,loss,label=='Training loss')\n",
        "    acc = history.history['acc']\n",
        "    plot_loss = np.append (plot_loss, [loss],axis=0)\n",
        "    plot_acc = np.append (plot_acc, [acc],axis=0)\n",
        "    ###############################################\n",
        "    cm = confusion_matrix(y_compare,pred)\n",
        "    np.set_printoptions(precision=2)\n",
        "    print('Confusion matrix, without normalization')\n",
        "    print(cm)\n",
        "\n",
        "\n",
        "    \n",
        "    \n",
        "# Build the oos prediction list and calculate the error.\n",
        "oos_y = np.concatenate(oos_y)\n",
        "oos_pred = np.concatenate(oos_pred)\n",
        "oos_y_compare = np.argmax(oos_y,axis=1) # For accuracy calculation\n",
        "\n",
        "score = metrics.accuracy_score(oos_y_compare, oos_pred)\n",
        "\n",
        "print(\"Final score (accuracy): {}\".format(score))"
      ],
      "execution_count": 18,
      "outputs": [
        {
          "output_type": "stream",
          "text": [
            "Fold #1\n",
            "WARNING:tensorflow:From /usr/local/lib/python3.6/dist-packages/keras/backend/tensorflow_backend.py:66: The name tf.get_default_graph is deprecated. Please use tf.compat.v1.get_default_graph instead.\n",
            "\n",
            "WARNING:tensorflow:From /usr/local/lib/python3.6/dist-packages/keras/backend/tensorflow_backend.py:541: The name tf.placeholder is deprecated. Please use tf.compat.v1.placeholder instead.\n",
            "\n",
            "WARNING:tensorflow:From /usr/local/lib/python3.6/dist-packages/keras/backend/tensorflow_backend.py:4432: The name tf.random_uniform is deprecated. Please use tf.random.uniform instead.\n",
            "\n",
            "WARNING:tensorflow:From /usr/local/lib/python3.6/dist-packages/keras/backend/tensorflow_backend.py:4267: The name tf.nn.max_pool is deprecated. Please use tf.nn.max_pool2d instead.\n",
            "\n",
            "WARNING:tensorflow:From /usr/local/lib/python3.6/dist-packages/keras/backend/tensorflow_backend.py:148: The name tf.placeholder_with_default is deprecated. Please use tf.compat.v1.placeholder_with_default instead.\n",
            "\n",
            "WARNING:tensorflow:From /usr/local/lib/python3.6/dist-packages/keras/backend/tensorflow_backend.py:3733: calling dropout (from tensorflow.python.ops.nn_ops) with keep_prob is deprecated and will be removed in a future version.\n",
            "Instructions for updating:\n",
            "Please use `rate` instead of `keep_prob`. Rate should be set to `rate = 1 - keep_prob`.\n",
            "WARNING:tensorflow:From /usr/local/lib/python3.6/dist-packages/keras/optimizers.py:793: The name tf.train.Optimizer is deprecated. Please use tf.compat.v1.train.Optimizer instead.\n",
            "\n",
            "WARNING:tensorflow:From /usr/local/lib/python3.6/dist-packages/keras/backend/tensorflow_backend.py:3657: The name tf.log is deprecated. Please use tf.math.log instead.\n",
            "\n",
            "WARNING:tensorflow:From /usr/local/lib/python3.6/dist-packages/tensorflow_core/python/ops/nn_impl.py:183: where (from tensorflow.python.ops.array_ops) is deprecated and will be removed in a future version.\n",
            "Instructions for updating:\n",
            "Use tf.where in 2.0, which has the same broadcast rule as np.where\n",
            "WARNING:tensorflow:From /usr/local/lib/python3.6/dist-packages/keras/backend/tensorflow_backend.py:1033: The name tf.assign_add is deprecated. Please use tf.compat.v1.assign_add instead.\n",
            "\n",
            "WARNING:tensorflow:From /usr/local/lib/python3.6/dist-packages/keras/backend/tensorflow_backend.py:1020: The name tf.assign is deprecated. Please use tf.compat.v1.assign instead.\n",
            "\n",
            "WARNING:tensorflow:From /usr/local/lib/python3.6/dist-packages/keras/backend/tensorflow_backend.py:3005: The name tf.Session is deprecated. Please use tf.compat.v1.Session instead.\n",
            "\n",
            "WARNING:tensorflow:From /usr/local/lib/python3.6/dist-packages/keras/backend/tensorflow_backend.py:190: The name tf.get_default_session is deprecated. Please use tf.compat.v1.get_default_session instead.\n",
            "\n",
            "WARNING:tensorflow:From /usr/local/lib/python3.6/dist-packages/keras/backend/tensorflow_backend.py:197: The name tf.ConfigProto is deprecated. Please use tf.compat.v1.ConfigProto instead.\n",
            "\n",
            "WARNING:tensorflow:From /usr/local/lib/python3.6/dist-packages/keras/backend/tensorflow_backend.py:207: The name tf.global_variables is deprecated. Please use tf.compat.v1.global_variables instead.\n",
            "\n",
            "WARNING:tensorflow:From /usr/local/lib/python3.6/dist-packages/keras/backend/tensorflow_backend.py:216: The name tf.is_variable_initialized is deprecated. Please use tf.compat.v1.is_variable_initialized instead.\n",
            "\n",
            "WARNING:tensorflow:From /usr/local/lib/python3.6/dist-packages/keras/backend/tensorflow_backend.py:223: The name tf.variables_initializer is deprecated. Please use tf.compat.v1.variables_initializer instead.\n",
            "\n",
            "Fold score (accuracy): 0.8960526315789473\n",
            "Elapsed time: 0:00:09.66\n",
            "Confusion matrix, without normalization\n",
            "[[681   0]\n",
            " [ 79   0]]\n",
            "Fold #2\n",
            "Fold score (accuracy): 0.8960526315789473\n",
            "Elapsed time: 0:00:12.03\n",
            "Confusion matrix, without normalization\n",
            "[[681   0]\n",
            " [ 79   0]]\n",
            "Fold #3\n",
            "Fold score (accuracy): 0.8960526315789473\n",
            "Elapsed time: 0:00:14.76\n",
            "Confusion matrix, without normalization\n",
            "[[681   0]\n",
            " [ 79   0]]\n",
            "Fold #4\n",
            "Fold score (accuracy): 0.9342105263157895\n",
            "Elapsed time: 0:00:17.92\n",
            "Confusion matrix, without normalization\n",
            "[[710   0]\n",
            " [ 50   0]]\n",
            "Fold #5\n",
            "Fold score (accuracy): 0.9276315789473685\n",
            "Elapsed time: 0:00:21.09\n",
            "Confusion matrix, without normalization\n",
            "[[705   0]\n",
            " [ 55   0]]\n",
            "Final score (accuracy): 0.91\n"
          ],
          "name": "stdout"
        }
      ]
    },
    {
      "cell_type": "code",
      "metadata": {
        "id": "zXJwDINJAIKX",
        "colab_type": "code",
        "colab": {
          "base_uri": "https://localhost:8080/",
          "height": 314
        },
        "outputId": "d3472a9e-f007-462f-cbf0-f3a1845daa17"
      },
      "source": [
        "plot_loss_graph = plot_loss\n",
        "itr=range(1,(epochs+1))\n",
        "for i in range(1,fold+1):\n",
        "    plt.plot(itr,plot_loss_graph[i-1],label=\"Fold #{}\".format(i))\n",
        "plt.xlabel('Epochs')\n",
        "plt.ylabel('Loss')\n",
        "plt.legend()\n",
        "plt.grid()\n",
        "plt.savefig(\"k-fold_loss.eps\")\n",
        "plt.savefig(\"k-fold_loss.png\",dpi=150)\n",
        "plt.show()"
      ],
      "execution_count": 19,
      "outputs": [
        {
          "output_type": "stream",
          "text": [
            "The PostScript backend does not support transparency; partially transparent artists will be rendered opaque.\n",
            "The PostScript backend does not support transparency; partially transparent artists will be rendered opaque.\n"
          ],
          "name": "stderr"
        },
        {
          "output_type": "display_data",
          "data": {
            "image/png": "[encoded data removed]",
            "text/plain": [
              "<Figure size 432x288 with 1 Axes>"
            ]
          },
          "metadata": {
            "tags": []
          }
        }
      ]
    },
    {
      "cell_type": "code",
      "metadata": {
        "id": "FqXQ0kiiAIKb",
        "colab_type": "code",
        "colab": {
          "base_uri": "https://localhost:8080/",
          "height": 313
        },
        "outputId": "5f4febe7-0876-4cbb-d32c-8532a0ab8041"
      },
      "source": [
        "plt.clf()\n",
        "plot_acc_graph = plot_acc\n",
        "itr=range(1,(epochs+1))\n",
        "for i in range(1,fold+1):\n",
        "    plt.plot(itr,plot_acc_graph[i-1],label=\"Fold #{}\".format(i))\n",
        "\n",
        "plt.xlabel('Epochs')\n",
        "plt.ylabel('Accuracy')\n",
        "plt.legend()\n",
        "plt.grid()\n",
        "plt.savefig(\"k-fold_acc.eps\",dpi=150)\n",
        "plt.savefig('k-fold_acc.png',dpi=150)\n",
        "plt.show()"
      ],
      "execution_count": 20,
      "outputs": [
        {
          "output_type": "stream",
          "text": [
            "The PostScript backend does not support transparency; partially transparent artists will be rendered opaque.\n",
            "The PostScript backend does not support transparency; partially transparent artists will be rendered opaque.\n"
          ],
          "name": "stderr"
        },
        {
          "output_type": "display_data",
          "data": {
            "image/png": "[encoded data removed]",
            "text/plain": [
              "<Figure size 432x288 with 1 Axes>"
            ]
          },
          "metadata": {
            "tags": []
          }
        }
      ]
    },
    {
      "cell_type": "code",
      "metadata": {
        "id": "4RCliticAIKf",
        "colab_type": "code",
        "colab": {
          "base_uri": "https://localhost:8080/",
          "height": 51
        },
        "outputId": "c53185ca-9f46-43a4-a8ce-523a281a231f"
      },
      "source": [
        "# Write the cross-validated prediction (from the last neural network)\n",
        "X_holdout = np.expand_dims(x_holdout, axis=2)\n",
        "\n",
        "holdout_pred = model.predict(X_holdout)\n",
        "holdout_pred = np.argmax(holdout_pred, axis=1)\n",
        "y_holdout_compare = np.argmax(y_holdout, axis=1)\n",
        "score = metrics.accuracy_score(y_holdout_compare,holdout_pred)\n",
        "print(\"Holdout score (accuracy): {}\".format(score))\n",
        "\n",
        "\n",
        "\n",
        "elapsed_time = time.time() - start_time\n",
        "print(\"Elapsed time: {}\".format(hms_string(elapsed_time)))"
      ],
      "execution_count": 21,
      "outputs": [
        {
          "output_type": "stream",
          "text": [
            "Holdout score (accuracy): 0.9063157894736842\n",
            "Elapsed time: 0:00:45.69\n"
          ],
          "name": "stdout"
        }
      ]
    },
    {
      "cell_type": "code",
      "metadata": {
        "id": "_f9AH0IzAIKm",
        "colab_type": "code",
        "colab": {}
      },
      "source": [
        ""
      ],
      "execution_count": 0,
      "outputs": []
    },
    {
      "cell_type": "code",
      "metadata": {
        "id": "5UFcO5TmAIKq",
        "colab_type": "code",
        "colab": {
          "base_uri": "https://localhost:8080/",
          "height": 34
        },
        "outputId": "4e1f65a6-0bca-4106-e554-5a24bacd9a54"
      },
      "source": [
        "# Write the cross-validated prediction (from the last neural network)\n",
        "\n",
        "X_holdout = np.expand_dims(x_holdout, axis=2)\n",
        "holdout_pred = model.predict(X_holdout)\n",
        "\n",
        "score = metrics.log_loss(y_holdout, holdout_pred)\n",
        "print(\"Log loss score: {}\".format(score))"
      ],
      "execution_count": 22,
      "outputs": [
        {
          "output_type": "stream",
          "text": [
            "Log loss score: 0.26766737557357134\n"
          ],
          "name": "stdout"
        }
      ]
    },
    {
      "cell_type": "code",
      "metadata": {
        "id": "GNm12Q1rAIKu",
        "colab_type": "code",
        "colab": {
          "base_uri": "https://localhost:8080/",
          "height": 34
        },
        "outputId": "9742f546-9417-4c6c-9499-5d4eb0c89c23"
      },
      "source": [
        "# Measure accuracy\n",
        "holdout_pred = model.predict(X_holdout)\n",
        "holdout_pred = np.argmax(holdout_pred, axis=1)\n",
        "y_holdout_compare = np.argmax(y_holdout, axis=1)\n",
        "score = metrics.accuracy_score(y_holdout_compare, holdout_pred)\n",
        "print(\"Final accuracy: {}\".format(score))"
      ],
      "execution_count": 23,
      "outputs": [
        {
          "output_type": "stream",
          "text": [
            "Final accuracy: 0.9063157894736842\n"
          ],
          "name": "stdout"
        }
      ]
    },
    {
      "cell_type": "markdown",
      "metadata": {
        "id": "VCkhKRpxAIKx",
        "colab_type": "text"
      },
      "source": [
        "## Output"
      ]
    },
    {
      "cell_type": "code",
      "metadata": {
        "id": "J9Por2tLAIKy",
        "colab_type": "code",
        "colab": {
          "base_uri": "https://localhost:8080/",
          "height": 34
        },
        "outputId": "76032e63-acd6-4f81-bdd2-59ec6d176981"
      },
      "source": [
        "history_dict = history.history\n",
        "\n",
        "history_dict.keys()"
      ],
      "execution_count": 24,
      "outputs": [
        {
          "output_type": "execute_result",
          "data": {
            "text/plain": [
              "dict_keys(['val_loss', 'val_acc', 'loss', 'acc'])"
            ]
          },
          "metadata": {
            "tags": []
          },
          "execution_count": 24
        }
      ]
    },
    {
      "cell_type": "code",
      "metadata": {
        "id": "n-9whu1oAIK2",
        "colab_type": "code",
        "colab": {
          "base_uri": "https://localhost:8080/",
          "height": 295
        },
        "outputId": "72807cb7-1a6f-4022-a0ab-51fd7e3f34af"
      },
      "source": [
        "import matplotlib.pyplot as plt\n",
        "\n",
        "acc = history.history['acc']\n",
        "val_acc = history.history['val_acc']\n",
        "loss = history.history['loss']\n",
        "val_loss = history.history['val_loss']\n",
        "\n",
        "epochs = range(1, len(acc) + 1)\n",
        "\n",
        "# \"bo\" is for \"blue dot\"\n",
        "plt.plot(epochs, loss,  label='Training loss')\n",
        "# b is for \"solid blue line\"\n",
        "plt.plot(epochs, val_loss,  label='Validation loss')\n",
        "plt.title('Training and validation loss')\n",
        "plt.xlabel('Epochs')\n",
        "plt.ylabel('Loss')\n",
        "plt.legend()\n",
        "plt.grid()\n",
        "plt.savefig('loss.png',dpi=150)\n",
        "plt.show()\n"
      ],
      "execution_count": 25,
      "outputs": [
        {
          "output_type": "display_data",
          "data": {
            "image/png": "[encoded data removed]",
            "text/plain": [
              "<Figure size 432x288 with 1 Axes>"
            ]
          },
          "metadata": {
            "tags": []
          }
        }
      ]
    },
    {
      "cell_type": "code",
      "metadata": {
        "id": "psHNdH8kAIK5",
        "colab_type": "code",
        "colab": {
          "base_uri": "https://localhost:8080/",
          "height": 295
        },
        "outputId": "5f140137-4063-42c2-e3de-07e589110d38"
      },
      "source": [
        "plt.clf()   # clear figure\n",
        "acc_values = history_dict['acc']\n",
        "val_acc_values = history_dict['val_acc']\n",
        "\n",
        "plt.plot(epochs, acc,  label='Training acc')\n",
        "plt.plot(epochs, val_acc,  label='Validation acc')\n",
        "plt.title('Training and validation accuracy')\n",
        "plt.xlabel('Epochs')\n",
        "plt.ylabel('Loss')\n",
        "plt.legend()\n",
        "plt.grid()\n",
        "plt.savefig('acc.png',dpi=150)\n",
        "plt.show()"
      ],
      "execution_count": 26,
      "outputs": [
        {
          "output_type": "display_data",
          "data": {
            "image/png": "[encoded data removed]",
            "text/plain": [
              "<Figure size 432x288 with 1 Axes>"
            ]
          },
          "metadata": {
            "tags": []
          }
        }
      ]
    },
    {
      "cell_type": "markdown",
      "metadata": {
        "id": "L9ZPQpncAIK8",
        "colab_type": "text"
      },
      "source": [
        "## Visualization Functions"
      ]
    },
    {
      "cell_type": "code",
      "metadata": {
        "id": "sk0yV90BAIK9",
        "colab_type": "code",
        "colab": {}
      },
      "source": [
        "%matplotlib inline\n",
        "import matplotlib.pyplot as plt\n",
        "from sklearn.metrics import roc_curve, auc\n",
        "\n",
        "# Plot a confusion matrix.\n",
        "# cm is the confusion matrix, names are the names of the classes.\n",
        "def plot_confusion_matrix(cm, names, title='Confusion matrix', cmap=plt.cm.Blues):\n",
        "    plt.imshow(cm, interpolation='nearest', cmap=cmap)\n",
        "    plt.title(title)\n",
        "    plt.colorbar()\n",
        "    tick_marks = np.arange(len(names))\n",
        "    plt.xticks(tick_marks, names, rotation=45)\n",
        "    plt.yticks(tick_marks, names)\n",
        "    plt.tight_layout()\n",
        "    plt.ylabel('True label')\n",
        "    plt.xlabel('Predicted label')\n",
        "    \n",
        "\n",
        "# Plot an ROC. pred - the predictions, y - the expected output.\n",
        "def plot_roc(pred,y):\n",
        "    fpr, tpr, _ = roc_curve(y, pred)\n",
        "    roc_auc = auc(fpr, tpr)\n",
        "\n",
        "    plt.figure()\n",
        "    plt.plot(fpr, tpr, label='ROC curve (area = %0.2f)' % roc_auc)\n",
        "    plt.plot([0, 1], [0, 1], 'k--')\n",
        "    plt.xlim([-0.05, 1.05])\n",
        "    plt.ylim([-0.05, 1.05])\n",
        "    plt.xlabel('False Positive Rate')\n",
        "    plt.ylabel('True Positive Rate')\n",
        "    plt.title('Receiver Operating Characteristic (ROC)')\n",
        "    plt.legend(loc=\"lower right\")\n",
        "    plt.grid()\n",
        "    #plt.savefig('roc1.png',dpi=150)\n",
        "    plt.show()   "
      ],
      "execution_count": 0,
      "outputs": []
    },
    {
      "cell_type": "markdown",
      "metadata": {
        "id": "6QwSv49eAILB",
        "colab_type": "text"
      },
      "source": [
        "### Confusion Matrix"
      ]
    },
    {
      "cell_type": "code",
      "metadata": {
        "scrolled": false,
        "id": "ipZIvRo8AILC",
        "colab_type": "code",
        "colab": {
          "base_uri": "https://localhost:8080/",
          "height": 679
        },
        "outputId": "c24921b5-c9b2-452e-e1c4-25d8f9f66e97"
      },
      "source": [
        "import numpy as np\n",
        "\n",
        "from sklearn import svm, datasets\n",
        "from sklearn.model_selection import train_test_split\n",
        "from sklearn.metrics import confusion_matrix\n",
        "\n",
        "# Compute confusion matrix\n",
        "cm = confusion_matrix(y_compare, pred)\n",
        "np.set_printoptions(precision=2)\n",
        "print('Confusion matrix, without normalization')\n",
        "print(cm)\n",
        "plt.figure()\n",
        "plot_confusion_matrix(cm, signal)\n",
        "plt.savefig('cm.png',dpi=150)\n",
        "\n",
        "# Normalize the confusion matrix by row (i.e by the number of samples\n",
        "# in each class)\n",
        "cm_normalized = cm.astype('float') / cm.sum(axis=1)[:, np.newaxis]\n",
        "print('Normalized confusion matrix')\n",
        "print(cm_normalized)\n",
        "plt.figure()\n",
        "plot_confusion_matrix(cm_normalized, signal, title='Normalized confusion matrix')\n",
        "plt.savefig('norm_cm.png',dpi=150)\n",
        "plt.show()"
      ],
      "execution_count": 28,
      "outputs": [
        {
          "output_type": "stream",
          "text": [
            "Confusion matrix, without normalization\n",
            "[[705   0]\n",
            " [ 55   0]]\n",
            "Normalized confusion matrix\n",
            "[[1. 0.]\n",
            " [1. 0.]]\n"
          ],
          "name": "stdout"
        },
        {
          "output_type": "display_data",
          "data": {
            "image/png": "[encoded data removed]",
            "text/plain": [
              "<Figure size 432x288 with 2 Axes>"
            ]
          },
          "metadata": {
            "tags": []
          }
        },
        {
          "output_type": "display_data",
          "data": {
            "image/png": "[encoded data removed]",
            "text/plain": [
              "<Figure size 432x288 with 2 Axes>"
            ]
          },
          "metadata": {
            "tags": []
          }
        }
      ]
    },
    {
      "cell_type": "code",
      "metadata": {
        "id": "Ui0Bvw7eAILF",
        "colab_type": "code",
        "colab": {
          "base_uri": "https://localhost:8080/",
          "height": 85
        },
        "outputId": "db4c37e7-3d46-419f-ae1b-c99ec12a8f2b"
      },
      "source": [
        "[[TP,FN],[FP,TN]]=cm\n",
        "\n",
        "Acc=(TP+TN)/(TP+TN+FP+FN)\n",
        "print(\"Overall Accuracy: \",Acc*100)\n",
        "\n",
        "Se=(TP)/(TP+FN)\n",
        "print(\"Sensitivity: \",Se*100)\n",
        "\n",
        "Sp=(TN)/(TN+FP)\n",
        "print(\"Specificity: \",Sp*100)\n",
        "\n",
        "ER=(FP+FN)/(TP+TN+FP+FN)\n",
        "print(\"Error Rate: \",ER*100)"
      ],
      "execution_count": 29,
      "outputs": [
        {
          "output_type": "stream",
          "text": [
            "Overall Accuracy:  92.76315789473685\n",
            "Sensitivity:  100.0\n",
            "Specificity:  0.0\n",
            "Error Rate:  7.236842105263158\n"
          ],
          "name": "stdout"
        }
      ]
    },
    {
      "cell_type": "markdown",
      "metadata": {
        "id": "2kB9X8N0AILI",
        "colab_type": "text"
      },
      "source": [
        "### ROC Chart"
      ]
    },
    {
      "cell_type": "code",
      "metadata": {
        "id": "9TSBYzS_AILK",
        "colab_type": "code",
        "colab": {
          "base_uri": "https://localhost:8080/",
          "height": 312
        },
        "outputId": "c4ecc63a-52dc-4d99-9a69-bf2368518d6c"
      },
      "source": [
        "pred = model.predict(X_test)\n",
        "pred = pred[:,1] # Only positive cases\n",
        "plot_roc(pred,y_compare)\n",
        "plt.savefig('roc.png',dpi=150)"
      ],
      "execution_count": 30,
      "outputs": [
        {
          "output_type": "display_data",
          "data": {
            "image/png": "[encoded data removed]",
            "text/plain": [
              "<Figure size 432x288 with 1 Axes>"
            ]
          },
          "metadata": {
            "tags": []
          }
        },
        {
          "output_type": "display_data",
          "data": {
            "text/plain": [
              "<Figure size 432x288 with 0 Axes>"
            ]
          },
          "metadata": {
            "tags": []
          }
        }
      ]
    },
    {
      "cell_type": "code",
      "metadata": {
        "id": "0RRlhJc9AILP",
        "colab_type": "code",
        "colab": {
          "base_uri": "https://localhost:8080/",
          "height": 1000
        },
        "outputId": "db2e05e2-d22a-4171-d97e-2a716aff068c"
      },
      "source": [
        "pred"
      ],
      "execution_count": 31,
      "outputs": [
        {
          "output_type": "execute_result",
          "data": {
            "text/plain": [
              "array([5.90e-02, 9.25e-02, 3.89e-01, 2.15e-01, 4.53e-02, 1.08e-02,\n",
              "       2.89e-02, 6.15e-03, 2.61e-01, 3.78e-02, 1.55e-03, 6.09e-04,\n",
              "       6.05e-02, 1.34e-02, 2.48e-02, 2.68e-02, 2.67e-01, 1.82e-01,\n",
              "       3.25e-03, 2.18e-01, 1.19e-02, 2.18e-02, 1.07e-02, 3.29e-02,\n",
              "       2.62e-02, 3.05e-01, 1.28e-03, 6.92e-03, 2.32e-02, 5.10e-03,\n",
              "       9.09e-03, 1.94e-01, 9.75e-03, 1.03e-02, 1.31e-03, 1.41e-03,\n",
              "       2.35e-01, 1.47e-01, 2.97e-02, 2.69e-03, 2.14e-01, 2.45e-01,\n",
              "       3.22e-02, 1.47e-02, 7.35e-02, 5.67e-04, 1.24e-01, 2.55e-01,\n",
              "       1.07e-02, 6.31e-02, 4.99e-02, 3.03e-01, 1.43e-02, 1.02e-02,\n",
              "       4.00e-02, 6.96e-02, 1.11e-02, 8.02e-03, 2.47e-02, 2.63e-01,\n",
              "       4.61e-02, 2.03e-01, 8.38e-03, 1.46e-01, 1.06e-02, 3.52e-01,\n",
              "       8.04e-03, 2.71e-02, 4.92e-02, 4.90e-03, 9.54e-02, 3.08e-03,\n",
              "       1.71e-01, 8.58e-04, 2.13e-01, 3.30e-02, 2.89e-02, 3.11e-01,\n",
              "       5.81e-03, 2.43e-01, 7.49e-02, 2.74e-01, 1.07e-01, 3.57e-02,\n",
              "       3.66e-02, 1.64e-02, 2.40e-02, 1.22e-01, 2.53e-01, 2.13e-01,\n",
              "       1.59e-01, 5.26e-03, 1.69e-03, 1.09e-01, 8.72e-03, 4.76e-03,\n",
              "       1.72e-01, 5.38e-03, 1.23e-02, 3.81e-03, 6.90e-02, 2.07e-03,\n",
              "       3.62e-02, 1.52e-02, 9.75e-02, 7.37e-02, 2.26e-02, 1.29e-01,\n",
              "       1.98e-01, 9.73e-02, 1.58e-01, 6.90e-03, 4.97e-02, 2.19e-02,\n",
              "       6.19e-03, 1.95e-02, 2.68e-01, 1.38e-02, 2.32e-01, 1.48e-01,\n",
              "       1.28e-01, 2.68e-02, 2.21e-02, 1.30e-03, 4.27e-03, 1.49e-02,\n",
              "       3.67e-03, 1.05e-01, 7.13e-03, 1.23e-01, 9.54e-03, 3.27e-03,\n",
              "       3.77e-03, 3.16e-01, 5.53e-02, 9.91e-03, 2.16e-04, 1.31e-01,\n",
              "       6.47e-03, 1.01e-01, 1.68e-02, 3.74e-02, 3.52e-02, 1.88e-02,\n",
              "       2.40e-01, 1.80e-03, 3.84e-03, 2.67e-01, 2.78e-01, 2.34e-01,\n",
              "       2.70e-02, 1.63e-01, 4.42e-02, 1.11e-02, 4.19e-03, 9.02e-03,\n",
              "       1.72e-02, 5.74e-02, 6.82e-03, 3.89e-03, 1.76e-02, 1.73e-01,\n",
              "       1.40e-01, 6.55e-02, 5.04e-03, 7.26e-03, 1.22e-02, 5.00e-02,\n",
              "       1.65e-01, 2.37e-02, 4.15e-02, 2.90e-01, 6.80e-03, 1.76e-01,\n",
              "       9.30e-03, 2.29e-01, 3.29e-01, 1.09e-01, 2.53e-01, 1.33e-01,\n",
              "       5.07e-02, 1.11e-02, 1.59e-01, 4.21e-03, 1.61e-01, 3.00e-01,\n",
              "       2.81e-01, 1.34e-01, 9.63e-02, 5.04e-02, 7.24e-02, 2.22e-01,\n",
              "       9.54e-02, 1.31e-02, 2.05e-01, 2.37e-02, 2.41e-01, 1.08e-01,\n",
              "       3.76e-02, 2.54e-01, 2.13e-02, 2.30e-01, 1.67e-02, 1.88e-01,\n",
              "       2.84e-01, 1.16e-01, 2.36e-02, 1.16e-03, 2.54e-01, 2.09e-01,\n",
              "       2.75e-02, 1.15e-01, 6.43e-03, 8.35e-04, 2.09e-02, 6.57e-02,\n",
              "       7.47e-02, 1.19e-01, 2.72e-02, 2.19e-01, 5.99e-02, 2.04e-01,\n",
              "       1.04e-01, 1.13e-02, 1.81e-01, 1.85e-02, 8.19e-03, 3.03e-03,\n",
              "       6.18e-02, 6.08e-02, 3.60e-01, 3.14e-02, 2.84e-01, 2.60e-01,\n",
              "       1.15e-02, 6.78e-03, 1.06e-02, 2.67e-01, 1.55e-01, 2.64e-01,\n",
              "       7.14e-02, 6.57e-02, 3.49e-01, 3.26e-02, 2.81e-02, 1.46e-01,\n",
              "       3.19e-03, 2.92e-02, 1.80e-03, 5.17e-03, 5.47e-03, 1.90e-02,\n",
              "       9.03e-03, 2.56e-01, 6.04e-02, 1.43e-03, 6.50e-02, 1.48e-02,\n",
              "       8.36e-03, 1.37e-02, 3.44e-02, 1.81e-01, 8.90e-02, 3.23e-01,\n",
              "       2.76e-01, 4.56e-02, 3.19e-02, 2.33e-01, 2.45e-01, 1.46e-01,\n",
              "       3.37e-01, 8.29e-02, 3.89e-03, 3.52e-03, 1.17e-01, 3.13e-01,\n",
              "       1.18e-01, 7.76e-03, 3.07e-02, 8.27e-02, 4.26e-02, 9.29e-03,\n",
              "       3.56e-03, 1.99e-01, 1.25e-01, 7.69e-03, 1.93e-01, 6.73e-02,\n",
              "       9.34e-02, 8.78e-03, 1.84e-02, 1.03e-02, 2.85e-01, 1.41e-02,\n",
              "       2.07e-01, 5.04e-02, 3.47e-03, 1.45e-01, 1.99e-02, 1.81e-01,\n",
              "       5.69e-03, 7.10e-02, 3.13e-01, 1.28e-02, 2.64e-03, 1.10e-02,\n",
              "       3.11e-02, 5.02e-02, 2.48e-03, 5.30e-03, 4.99e-02, 3.59e-01,\n",
              "       4.19e-03, 2.96e-01, 1.72e-01, 8.65e-02, 6.71e-02, 8.18e-03,\n",
              "       1.20e-01, 1.32e-02, 6.18e-03, 1.53e-02, 9.01e-02, 1.29e-02,\n",
              "       3.48e-02, 3.56e-02, 1.67e-02, 4.95e-03, 3.30e-03, 2.02e-02,\n",
              "       4.90e-02, 2.04e-01, 1.09e-02, 6.74e-03, 2.73e-01, 3.39e-01,\n",
              "       1.23e-02, 5.14e-02, 2.54e-01, 5.65e-02, 3.14e-02, 2.70e-01,\n",
              "       9.61e-02, 1.16e-02, 8.15e-02, 3.74e-01, 2.86e-01, 6.37e-03,\n",
              "       1.13e-01, 1.76e-03, 3.08e-01, 1.31e-01, 7.14e-03, 1.96e-01,\n",
              "       1.20e-01, 2.73e-01, 9.44e-02, 7.65e-02, 1.45e-01, 6.70e-02,\n",
              "       3.22e-03, 1.04e-02, 6.74e-03, 7.27e-03, 1.13e-01, 1.16e-02,\n",
              "       9.20e-02, 1.49e-02, 1.84e-01, 1.30e-01, 3.15e-02, 1.85e-02,\n",
              "       1.31e-02, 2.96e-01, 2.06e-02, 1.37e-01, 1.62e-01, 2.89e-01,\n",
              "       5.58e-03, 2.44e-01, 3.06e-02, 2.75e-01, 5.64e-04, 2.07e-01,\n",
              "       3.45e-02, 1.02e-01, 4.21e-02, 2.36e-01, 1.59e-02, 7.18e-02,\n",
              "       1.66e-02, 2.94e-01, 2.77e-01, 1.56e-03, 6.51e-03, 8.69e-02,\n",
              "       7.73e-03, 4.90e-02, 2.90e-03, 5.46e-03, 1.28e-03, 1.15e-01,\n",
              "       4.30e-02, 2.40e-03, 2.04e-01, 5.72e-03, 1.30e-01, 7.60e-02,\n",
              "       2.10e-01, 8.40e-02, 9.22e-02, 2.45e-01, 2.47e-01, 2.45e-01,\n",
              "       1.13e-01, 7.96e-02, 3.33e-02, 1.35e-02, 4.27e-02, 6.20e-04,\n",
              "       1.44e-02, 4.08e-03, 6.71e-02, 7.55e-02, 1.39e-03, 2.29e-01,\n",
              "       3.75e-04, 3.58e-03, 1.19e-01, 6.50e-03, 2.27e-02, 3.28e-02,\n",
              "       3.21e-02, 4.64e-02, 1.51e-02, 2.98e-02, 2.82e-01, 2.12e-01,\n",
              "       6.49e-03, 3.28e-03, 4.20e-03, 5.28e-02, 1.55e-01, 2.64e-01,\n",
              "       4.46e-03, 2.85e-03, 1.51e-02, 1.96e-01, 5.91e-03, 1.83e-02,\n",
              "       3.17e-01, 2.15e-01, 1.49e-02, 4.04e-02, 7.64e-02, 3.64e-02,\n",
              "       6.94e-03, 2.97e-02, 2.17e-03, 2.51e-01, 2.48e-01, 3.58e-02,\n",
              "       3.13e-01, 4.03e-04, 5.08e-02, 7.00e-02, 4.76e-03, 3.38e-03,\n",
              "       2.18e-02, 6.41e-04, 3.37e-01, 1.86e-02, 3.86e-01, 2.80e-01,\n",
              "       4.76e-03, 1.32e-03, 3.52e-02, 3.64e-01, 2.47e-01, 8.41e-03,\n",
              "       1.94e-01, 8.54e-02, 1.16e-02, 8.25e-04, 1.74e-01, 3.70e-02,\n",
              "       1.42e-01, 3.51e-01, 9.61e-03, 2.23e-01, 3.31e-01, 3.38e-02,\n",
              "       3.48e-02, 1.32e-01, 2.74e-03, 1.09e-01, 3.87e-02, 2.11e-01,\n",
              "       1.27e-01, 3.22e-02, 1.64e-01, 7.42e-02, 1.87e-02, 3.51e-02,\n",
              "       3.42e-03, 4.48e-02, 1.02e-02, 3.09e-03, 1.37e-01, 1.25e-01,\n",
              "       2.28e-02, 7.35e-03, 2.74e-01, 9.55e-03, 1.48e-01, 3.45e-01,\n",
              "       9.34e-02, 1.25e-02, 1.23e-02, 4.34e-02, 1.29e-02, 2.16e-01,\n",
              "       8.12e-03, 9.13e-04, 2.18e-01, 1.09e-01, 3.55e-02, 2.26e-01,\n",
              "       8.77e-02, 1.54e-02, 2.06e-02, 1.98e-01, 4.71e-02, 3.97e-03,\n",
              "       2.60e-01, 3.46e-02, 1.58e-01, 1.89e-01, 1.65e-01, 1.60e-02,\n",
              "       3.17e-02, 4.79e-03, 1.64e-02, 6.80e-03, 3.53e-01, 1.61e-01,\n",
              "       2.63e-01, 3.22e-02, 1.49e-01, 7.75e-03, 2.32e-01, 1.43e-02,\n",
              "       4.88e-03, 2.06e-02, 7.13e-02, 1.85e-01, 2.38e-02, 3.11e-02,\n",
              "       7.10e-02, 9.42e-03, 1.05e-01, 9.63e-03, 2.20e-01, 7.09e-02,\n",
              "       1.97e-01, 2.44e-02, 1.77e-02, 6.10e-03, 2.49e-02, 1.85e-01,\n",
              "       2.31e-02, 1.78e-02, 3.17e-03, 8.03e-02, 2.41e-02, 2.81e-02,\n",
              "       9.43e-03, 4.56e-02, 4.07e-04, 2.62e-01, 1.13e-01, 5.16e-02,\n",
              "       2.07e-01, 9.49e-02, 7.60e-03, 1.17e-02, 1.91e-01, 2.31e-01,\n",
              "       1.18e-01, 7.62e-03, 1.66e-02, 1.42e-02, 3.91e-01, 1.30e-01,\n",
              "       3.10e-01, 2.30e-01, 2.68e-03, 6.79e-02, 2.20e-01, 1.98e-01,\n",
              "       3.26e-02, 2.27e-01, 8.52e-02, 1.18e-02, 1.21e-02, 1.62e-02,\n",
              "       2.04e-01, 1.08e-01, 1.46e-02, 2.01e-01, 2.41e-01, 2.21e-01,\n",
              "       6.22e-03, 1.74e-02, 4.46e-02, 1.38e-03, 6.77e-03, 2.55e-01,\n",
              "       8.74e-03, 1.87e-01, 2.48e-01, 1.28e-01, 5.77e-02, 4.91e-03,\n",
              "       1.02e-02, 3.44e-01, 5.13e-02, 3.63e-01, 1.55e-01, 2.37e-01,\n",
              "       2.13e-01, 2.12e-01, 1.07e-01, 1.77e-01, 2.62e-01, 7.57e-02,\n",
              "       2.23e-01, 1.48e-02, 3.93e-02, 1.83e-01, 2.81e-03, 4.43e-02,\n",
              "       7.76e-02, 1.58e-02, 4.32e-03, 3.54e-02, 5.33e-03, 1.25e-02,\n",
              "       1.30e-02, 1.18e-01, 5.39e-02, 3.08e-01, 1.91e-02, 1.09e-02,\n",
              "       2.38e-02, 8.01e-03, 6.11e-02, 1.61e-01, 9.34e-03, 1.35e-02,\n",
              "       2.92e-04, 4.42e-03, 1.84e-03, 3.09e-01, 2.79e-01, 4.88e-02,\n",
              "       3.22e-01, 3.94e-02, 2.42e-01, 4.63e-02, 1.80e-02, 5.47e-02,\n",
              "       1.12e-01, 8.94e-04, 1.91e-02, 2.10e-02, 1.51e-01, 2.45e-02,\n",
              "       7.20e-03, 4.58e-02, 7.53e-03, 2.50e-01, 7.07e-02, 1.23e-01,\n",
              "       3.39e-03, 3.22e-01, 3.40e-03, 6.56e-04, 1.19e-02, 1.21e-01,\n",
              "       1.32e-01, 9.17e-03, 9.89e-02, 3.58e-02, 3.15e-01, 1.56e-02,\n",
              "       1.26e-01, 1.69e-01, 3.07e-03, 7.80e-03, 2.41e-02, 3.17e-03,\n",
              "       1.64e-02, 8.59e-02, 5.46e-02, 1.54e-01, 9.15e-03, 8.53e-03,\n",
              "       3.03e-01, 3.43e-02, 7.80e-02, 1.95e-02, 3.37e-01, 2.83e-01,\n",
              "       7.02e-02, 2.12e-01, 8.53e-03, 1.24e-01, 3.76e-03, 1.84e-01,\n",
              "       8.98e-02, 7.84e-03, 6.71e-02, 4.09e-02, 2.34e-01, 2.42e-01,\n",
              "       2.88e-01, 8.94e-02, 1.64e-01, 1.58e-01, 2.04e-01, 8.80e-02,\n",
              "       5.45e-02, 1.34e-03, 1.30e-04, 4.82e-03, 2.64e-01, 3.63e-03,\n",
              "       6.00e-03, 2.90e-03, 7.53e-04, 1.71e-01, 2.70e-01, 2.74e-01,\n",
              "       1.28e-01, 2.50e-01, 3.06e-01, 2.97e-01, 6.53e-03, 2.97e-01,\n",
              "       1.29e-03, 7.41e-02, 1.45e-02, 1.49e-02, 1.00e-01, 2.01e-02,\n",
              "       4.39e-02, 6.55e-02, 2.83e-03, 4.67e-03], dtype=float32)"
            ]
          },
          "metadata": {
            "tags": []
          },
          "execution_count": 31
        }
      ]
    },
    {
      "cell_type": "markdown",
      "metadata": {
        "id": "btMfT0eCAILS",
        "colab_type": "text"
      },
      "source": [
        "### Log-loss score"
      ]
    },
    {
      "cell_type": "code",
      "metadata": {
        "id": "YLZhNF8MAILT",
        "colab_type": "code",
        "colab": {
          "base_uri": "https://localhost:8080/",
          "height": 170
        },
        "outputId": "3a8f3fe9-eeca-4490-cab6-07831c4979ab"
      },
      "source": [
        "from IPython.display import display\n",
        "\n",
        "# Don't display numpy in scientific notation\n",
        "np.set_printoptions(precision=4)\n",
        "np.set_printoptions(suppress=True)\n",
        "\n",
        "# Generate predictions\n",
        "pred = model.predict(X_test)\n",
        "\n",
        "print(\"Numpy array of predictions\")\n",
        "print(pred[0]*100)\n",
        "\n",
        "print(\"As percent probability\")\n",
        "display(pred[0:5])\n",
        "\n",
        "score = metrics.log_loss(y_test, pred)\n",
        "print(\"Log loss score: {}\".format(score))"
      ],
      "execution_count": 32,
      "outputs": [
        {
          "output_type": "stream",
          "text": [
            "Numpy array of predictions\n",
            "[91.5103  5.8978]\n",
            "As percent probability\n"
          ],
          "name": "stdout"
        },
        {
          "output_type": "display_data",
          "data": {
            "text/plain": [
              "array([[0.9151, 0.059 ],\n",
              "       [0.871 , 0.0925],\n",
              "       [0.5968, 0.389 ],\n",
              "       [0.7442, 0.2153],\n",
              "       [0.9322, 0.0453]], dtype=float32)"
            ]
          },
          "metadata": {
            "tags": []
          }
        },
        {
          "output_type": "stream",
          "text": [
            "Log loss score: 0.24031013370643595\n"
          ],
          "name": "stdout"
        }
      ]
    },
    {
      "cell_type": "markdown",
      "metadata": {
        "id": "ajmZcXQgAILW",
        "colab_type": "text"
      },
      "source": [
        "# Holdout Predictions"
      ]
    },
    {
      "cell_type": "code",
      "metadata": {
        "id": "uYHhkjdnAILX",
        "colab_type": "code",
        "colab": {
          "base_uri": "https://localhost:8080/",
          "height": 34
        },
        "outputId": "43f2a6a8-9ac0-4cf1-8262-76fe56cf1d3c"
      },
      "source": [
        "# Write the cross-validated prediction (from the last neural network)\n",
        "\n",
        "X_holdout = np.expand_dims(x_holdout, axis=2)\n",
        "holdout_pred = model.predict(X_holdout)\n",
        "\n",
        "score = metrics.log_loss(y_holdout, holdout_pred)\n",
        "print(\"Log loss score: {}\".format(score))"
      ],
      "execution_count": 33,
      "outputs": [
        {
          "output_type": "stream",
          "text": [
            "Log loss score: 0.26766737557357134\n"
          ],
          "name": "stdout"
        }
      ]
    },
    {
      "cell_type": "code",
      "metadata": {
        "scrolled": true,
        "id": "k9hYSkvmAILa",
        "colab_type": "code",
        "colab": {
          "base_uri": "https://localhost:8080/",
          "height": 34
        },
        "outputId": "6d028e71-2f2d-4d79-ddb1-c4192535f008"
      },
      "source": [
        "# Measure accuracy\n",
        "holdout_pred = model.predict(X_holdout)\n",
        "holdout_pred = np.argmax(holdout_pred, axis=1)\n",
        "y_holdout_compare = np.argmax(y_holdout, axis=1)\n",
        "score = metrics.accuracy_score(y_holdout_compare, holdout_pred)\n",
        "print(\"Final accuracy: {}\".format(score))"
      ],
      "execution_count": 34,
      "outputs": [
        {
          "output_type": "stream",
          "text": [
            "Final accuracy: 0.9063157894736842\n"
          ],
          "name": "stdout"
        }
      ]
    },
    {
      "cell_type": "markdown",
      "metadata": {
        "id": "tZ0XBBwJAILd",
        "colab_type": "text"
      },
      "source": [
        "## Confusion Matrix"
      ]
    },
    {
      "cell_type": "code",
      "metadata": {
        "scrolled": false,
        "id": "U2Wo_KxYAILf",
        "colab_type": "code",
        "colab": {
          "base_uri": "https://localhost:8080/",
          "height": 679
        },
        "outputId": "7fdb9cdd-c17b-47db-cbcf-6882c09b91b2"
      },
      "source": [
        "import numpy as np\n",
        "\n",
        "from sklearn import svm, datasets\n",
        "from sklearn.model_selection import train_test_split\n",
        "from sklearn.metrics import confusion_matrix\n",
        "\n",
        "# Compute confusion matrix\n",
        "cm = confusion_matrix(y_holdout_compare, holdout_pred)\n",
        "np.set_printoptions(precision=2)\n",
        "print('Confusion matrix, without normalization')\n",
        "print(cm)\n",
        "plt.figure()\n",
        "plot_confusion_matrix(cm, signal)\n",
        "plt.savefig('cm2.png',dpi=150)\n",
        "\n",
        "# Normalize the confusion matrix by row (i.e by the number of samples\n",
        "# in each class)\n",
        "cm_normalized = cm.astype('float') / cm.sum(axis=1)[:, np.newaxis]\n",
        "print('Normalized confusion matrix')\n",
        "print(cm_normalized)\n",
        "plt.figure()\n",
        "plot_confusion_matrix(cm_normalized, signal, title='Normalized confusion matrix')\n",
        "plt.savefig('norm_cm2.png',dpi=150)\n",
        "plt.show()"
      ],
      "execution_count": 35,
      "outputs": [
        {
          "output_type": "stream",
          "text": [
            "Confusion matrix, without normalization\n",
            "[[861   0]\n",
            " [ 89   0]]\n",
            "Normalized confusion matrix\n",
            "[[1. 0.]\n",
            " [1. 0.]]\n"
          ],
          "name": "stdout"
        },
        {
          "output_type": "display_data",
          "data": {
            "image/png": "[encoded data removed]",
            "text/plain": [
              "<Figure size 432x288 with 2 Axes>"
            ]
          },
          "metadata": {
            "tags": []
          }
        },
        {
          "output_type": "display_data",
          "data": {
            "image/png": "[encoded data removed]",
            "text/plain": [
              "<Figure size 432x288 with 2 Axes>"
            ]
          },
          "metadata": {
            "tags": []
          }
        }
      ]
    },
    {
      "cell_type": "code",
      "metadata": {
        "id": "xZT-T-C0AILk",
        "colab_type": "code",
        "colab": {
          "base_uri": "https://localhost:8080/",
          "height": 238
        },
        "outputId": "fd03c170-cc84-44ec-9932-1fab25aabc2b"
      },
      "source": [
        "print(confusion_matrix(y_holdout_compare, holdout_pred))  \n",
        "print(classification_report(y_holdout_compare, holdout_pred))"
      ],
      "execution_count": 36,
      "outputs": [
        {
          "output_type": "stream",
          "text": [
            "[[861   0]\n",
            " [ 89   0]]\n",
            "              precision    recall  f1-score   support\n",
            "\n",
            "           0       0.91      1.00      0.95       861\n",
            "           1       0.00      0.00      0.00        89\n",
            "\n",
            "    accuracy                           0.91       950\n",
            "   macro avg       0.45      0.50      0.48       950\n",
            "weighted avg       0.82      0.91      0.86       950\n",
            "\n"
          ],
          "name": "stdout"
        },
        {
          "output_type": "stream",
          "text": [
            "/usr/local/lib/python3.6/dist-packages/sklearn/metrics/classification.py:1437: UndefinedMetricWarning: Precision and F-score are ill-defined and being set to 0.0 in labels with no predicted samples.\n",
            "  'precision', 'predicted', average, warn_for)\n"
          ],
          "name": "stderr"
        }
      ]
    },
    {
      "cell_type": "code",
      "metadata": {
        "id": "bX2kZBYnAILn",
        "colab_type": "code",
        "colab": {
          "base_uri": "https://localhost:8080/",
          "height": 85
        },
        "outputId": "46749ccd-b3b3-4009-a6ec-9fac281ee2b2"
      },
      "source": [
        "[[TP,FN],[FP,TN]]=cm\n",
        "\n",
        "Acc=((TP+TN)/(TP+TN+FP+FN)) * 100\n",
        "print(\"Overall Accuracy: \", Acc)\n",
        "\n",
        "Se=(TP)/(TP+FN)\n",
        "print(\"Sensitivity: \", Se*100)\n",
        "\n",
        "Sp=(TN)/(TN+FP)\n",
        "print(\"Specificity: \",Sp*100)\n",
        "\n",
        "ER=(FP+FN)/(TP+TN+FP+FN)\n",
        "print(\"Error Rate: \",ER*100)"
      ],
      "execution_count": 37,
      "outputs": [
        {
          "output_type": "stream",
          "text": [
            "Overall Accuracy:  90.63157894736842\n",
            "Sensitivity:  100.0\n",
            "Specificity:  0.0\n",
            "Error Rate:  9.368421052631579\n"
          ],
          "name": "stdout"
        }
      ]
    },
    {
      "cell_type": "markdown",
      "metadata": {
        "id": "L4_3uvO5AILq",
        "colab_type": "text"
      },
      "source": [
        "## ROC Chart"
      ]
    },
    {
      "cell_type": "code",
      "metadata": {
        "id": "FFJ3bB3nAILr",
        "colab_type": "code",
        "colab": {
          "base_uri": "https://localhost:8080/",
          "height": 346
        },
        "outputId": "cf4782fc-9ced-4751-d796-508d57c3d3d0"
      },
      "source": [
        "holdout_pred = model.predict(X_holdout)\n",
        "holdout_pred = holdout_pred[:,1] # Only positive cases\n",
        "fig = plt.figure()\n",
        "plt.figure()\n",
        "\n",
        "plot_roc(holdout_pred, y_holdout_compare)\n",
        "plt.savefig('roc2.png',dpi=150)\n",
        "plt.show()"
      ],
      "execution_count": 38,
      "outputs": [
        {
          "output_type": "display_data",
          "data": {
            "text/plain": [
              "<Figure size 432x288 with 0 Axes>"
            ]
          },
          "metadata": {
            "tags": []
          }
        },
        {
          "output_type": "display_data",
          "data": {
            "text/plain": [
              "<Figure size 432x288 with 0 Axes>"
            ]
          },
          "metadata": {
            "tags": []
          }
        },
        {
          "output_type": "display_data",
          "data": {
            "image/png": "[encoded data removed]",
            "text/plain": [
              "<Figure size 432x288 with 1 Axes>"
            ]
          },
          "metadata": {
            "tags": []
          }
        },
        {
          "output_type": "display_data",
          "data": {
            "text/plain": [
              "<Figure size 432x288 with 0 Axes>"
            ]
          },
          "metadata": {
            "tags": []
          }
        }
      ]
    },
    {
      "cell_type": "code",
      "metadata": {
        "id": "IAvwm4N-AILu",
        "colab_type": "code",
        "colab": {}
      },
      "source": [
        "model.save('be.h5')"
      ],
      "execution_count": 0,
      "outputs": []
    },
    {
      "cell_type": "code",
      "metadata": {
        "id": "3SqWkreLAILx",
        "colab_type": "code",
        "colab": {
          "base_uri": "https://localhost:8080/",
          "height": 1000
        },
        "outputId": "8b7f6851-067e-42eb-f40f-efa2c5c45f1e"
      },
      "source": [
        "from keras.utils import plot_model\n",
        "plot_model(model,show_shapes = True, to_file = 'model_10.png')"
      ],
      "execution_count": 40,
      "outputs": [
        {
          "output_type": "execute_result",
          "data": {
            "image/png": "[encoded data removed]",
            "text/plain": [
              "<IPython.core.display.Image object>"
            ]
          },
          "metadata": {
            "tags": []
          },
          "execution_count": 40
        }
      ]
    },
    {
      "cell_type": "code",
      "metadata": {
        "id": "IIy7e2sHAIL0",
        "colab_type": "code",
        "colab": {}
      },
      "source": [
        ""
      ],
      "execution_count": 0,
      "outputs": []
    },
    {
      "cell_type": "code",
      "metadata": {
        "id": "ueOhS71_AIL3",
        "colab_type": "code",
        "colab": {
          "base_uri": "https://localhost:8080/",
          "height": 34
        },
        "outputId": "110801af-1527-4d70-ffb9-ef2a47787340"
      },
      "source": [
        "###### import model #####\n",
        "\n",
        "import time\n",
        "tic=time.time()\n",
        "from keras.models import load_model\n",
        "my_model=load_model('be.h5')\n",
        "toc=time.time()\n",
        "print(str(1000*(toc-tic))+\"ms\")\n"
      ],
      "execution_count": 41,
      "outputs": [
        {
          "output_type": "stream",
          "text": [
            "3431.584358215332ms\n"
          ],
          "name": "stdout"
        }
      ]
    },
    {
      "cell_type": "code",
      "metadata": {
        "id": "Xr1-nj72DVEx",
        "colab_type": "code",
        "colab": {
          "base_uri": "https://localhost:8080/",
          "height": 493
        },
        "outputId": "5dce601a-791a-4d5e-a0c0-1bc9b1521bf4"
      },
      "source": [
        "import pandas as pd\n",
        "import io\n",
        "df3 = pd.read_csv(io.StringIO(uploaded['bt.csv'].decode('utf-8')))\n",
        "print(df3)\n",
        "df4 = pd.read_csv(io.StringIO(uploaded['et.csv'].decode('utf-8')))\n",
        "print(df4)"
      ],
      "execution_count": 42,
      "outputs": [
        {
          "output_type": "stream",
          "text": [
            "            S1        S2         S3  ...        S11       S12       S13\n",
            "0    22.737841  2.399196 -10.172267  ...  -3.202369  4.119467 -0.361488\n",
            "1    22.952436  2.245480 -10.264699  ...  -5.221063  3.148670 -0.091942\n",
            "2    22.908935  2.616482  -9.529749  ...  -4.238645  0.872314  0.510450\n",
            "3    22.874865  2.777719  -9.322682  ...  -2.860533 -0.292973 -1.814406\n",
            "4    22.951451  2.940011  -9.315593  ...  -5.893608  0.052298 -1.191790\n",
            "..         ...       ...        ...  ...        ...       ...       ...\n",
            "426  23.043558  2.309610  -9.500446  ... -10.556533  5.016231  6.676602\n",
            "427  23.100006  2.127406  -9.473743  ... -13.351370  5.457447  7.733076\n",
            "428  23.029893  2.270314  -9.276543  ... -14.115802  5.344738  7.897555\n",
            "429  22.948504  2.551206  -8.948374  ... -12.738061  3.511363  7.457604\n",
            "430  23.061913  1.940424  -8.938372  ... -14.726312  3.566904  9.495983\n",
            "\n",
            "[431 rows x 13 columns]\n",
            "            S1        S2         S3  ...       S11       S12       S13\n",
            "0    21.782855  2.749247  -9.398894  ...  2.031451  2.401411 -6.709452\n",
            "1    21.745748  2.727488  -9.671425  ...  1.883869  2.407610 -6.406919\n",
            "2    21.546443  2.131980 -10.286042  ...  0.832544  0.695217 -9.493057\n",
            "3    21.572972  1.824530 -10.540124  ...  1.727318 -0.101782 -8.637506\n",
            "4    21.688917  2.162549 -10.115835  ...  1.248113 -0.053689 -7.562009\n",
            "..         ...       ...        ...  ...       ...       ...       ...\n",
            "426  22.923210  2.400772  -9.137714  ...  3.710927  2.668431 -7.716830\n",
            "427  22.957402  1.375030 -10.354552  ...  3.832235  1.478831 -8.943387\n",
            "428  22.855160  2.002238  -9.826722  ...  1.948937  0.701683 -9.981526\n",
            "429  22.601478  2.647363  -8.853082  ...  4.248712  1.716946 -9.632915\n",
            "430  22.507888  2.255548  -9.487524  ...  1.897771  0.726216 -6.793638\n",
            "\n",
            "[431 rows x 13 columns]\n"
          ],
          "name": "stdout"
        }
      ]
    },
    {
      "cell_type": "code",
      "metadata": {
        "id": "x3PyYN2zAIL8",
        "colab_type": "code",
        "colab": {}
      },
      "source": [
        "## NOIZEUS CLEAN DATA AND RECORDED NOISY data testing .\n",
        "\n",
        "import pandas as pd\n",
        "import io\n",
        "import requests\n",
        "import numpy as np\n",
        "import os\n",
        "from sklearn.model_selection import train_test_split\n",
        "from sklearn import metrics\n",
        "from keras.models import Sequential\n",
        "from keras.layers.core import Dense, Activation\n",
        "from keras.callbacks import EarlyStopping\n",
        "\n",
        "#path = \"./data/\"\n",
        "\n",
        "#filename3 = os.path.join(path,\"Clean_norm_test_250ms.csv\")    \n",
        "#df3 = pd.read_csv(filename3,na_values=['NA','?'])\n",
        "\n",
        "#filename4 = os.path.join(path,\"Noisy_test_250ms.csv\")    \n",
        "#df4 = pd.read_csv(filename4,na_values=['NA','?'])\n",
        "#frames = [df3, df4]\n",
        "#df5 = pd.concat(frames, keys=['x', 'y'])\n",
        "\n",
        "# Shuffle\n",
        "np.random.seed(42)\n",
        "df3 = df3.reindex(np.random.permutation(df3.index))\n",
        "df3.reset_index(inplace=True, drop=True)\n",
        "\n",
        "np.random.seed(42)\n",
        "df4 = df4.reindex(np.random.permutation(df4.index))\n",
        "df4.reset_index(inplace=True, drop=True)\n",
        "\n",
        "\n",
        "#signal = encode_text_index(df5,\"signal\")\n",
        "#x_holdout,y_holdout = to_xy(df5,\"signal\")\n",
        "\n"
      ],
      "execution_count": 0,
      "outputs": []
    },
    {
      "cell_type": "code",
      "metadata": {
        "id": "QR1uRXbVAIMD",
        "colab_type": "code",
        "colab": {}
      },
      "source": [
        "#x_holdout = scaler.transform(x_holdout) "
      ],
      "execution_count": 0,
      "outputs": []
    },
    {
      "cell_type": "code",
      "metadata": {
        "id": "Omg36aeHAIMG",
        "colab_type": "code",
        "colab": {
          "base_uri": "https://localhost:8080/",
          "height": 419
        },
        "outputId": "aa1b89fd-b685-4823-ffb5-c42d57520391"
      },
      "source": [
        "df3"
      ],
      "execution_count": 45,
      "outputs": [
        {
          "output_type": "execute_result",
          "data": {
            "text/html": [
              "<div>\n",
              "<style scoped>\n",
              "    .dataframe tbody tr th:only-of-type {\n",
              "        vertical-align: middle;\n",
              "    }\n",
              "\n",
              "    .dataframe tbody tr th {\n",
              "        vertical-align: top;\n",
              "    }\n",
              "\n",
              "    .dataframe thead th {\n",
              "        text-align: right;\n",
              "    }\n",
              "</style>\n",
              "<table border=\"1\" class=\"dataframe\">\n",
              "  <thead>\n",
              "    <tr style=\"text-align: right;\">\n",
              "      <th></th>\n",
              "      <th>S1</th>\n",
              "      <th>S2</th>\n",
              "      <th>S3</th>\n",
              "      <th>S4</th>\n",
              "      <th>S5</th>\n",
              "      <th>S6</th>\n",
              "      <th>S7</th>\n",
              "      <th>S8</th>\n",
              "      <th>S9</th>\n",
              "      <th>S10</th>\n",
              "      <th>S11</th>\n",
              "      <th>S12</th>\n",
              "      <th>S13</th>\n",
              "    </tr>\n",
              "  </thead>\n",
              "  <tbody>\n",
              "    <tr>\n",
              "      <th>0</th>\n",
              "      <td>23.280676</td>\n",
              "      <td>2.509755</td>\n",
              "      <td>-10.116877</td>\n",
              "      <td>6.345460</td>\n",
              "      <td>-7.848785</td>\n",
              "      <td>4.956002</td>\n",
              "      <td>-8.553533</td>\n",
              "      <td>2.496645</td>\n",
              "      <td>-9.298445</td>\n",
              "      <td>-2.166238</td>\n",
              "      <td>-7.722053</td>\n",
              "      <td>3.941438</td>\n",
              "      <td>1.272366</td>\n",
              "    </tr>\n",
              "    <tr>\n",
              "      <th>1</th>\n",
              "      <td>22.894145</td>\n",
              "      <td>2.878973</td>\n",
              "      <td>-9.355654</td>\n",
              "      <td>7.398453</td>\n",
              "      <td>-7.276652</td>\n",
              "      <td>6.411909</td>\n",
              "      <td>-5.661400</td>\n",
              "      <td>2.118531</td>\n",
              "      <td>-5.905707</td>\n",
              "      <td>3.124200</td>\n",
              "      <td>-3.459312</td>\n",
              "      <td>2.960453</td>\n",
              "      <td>-3.822101</td>\n",
              "    </tr>\n",
              "    <tr>\n",
              "      <th>2</th>\n",
              "      <td>23.235703</td>\n",
              "      <td>2.802885</td>\n",
              "      <td>-9.357289</td>\n",
              "      <td>4.754671</td>\n",
              "      <td>-7.018017</td>\n",
              "      <td>5.146831</td>\n",
              "      <td>-9.252464</td>\n",
              "      <td>-1.147857</td>\n",
              "      <td>-16.913380</td>\n",
              "      <td>-8.026330</td>\n",
              "      <td>-9.943338</td>\n",
              "      <td>2.711380</td>\n",
              "      <td>3.465274</td>\n",
              "    </tr>\n",
              "    <tr>\n",
              "      <th>3</th>\n",
              "      <td>22.498366</td>\n",
              "      <td>2.196470</td>\n",
              "      <td>-9.784616</td>\n",
              "      <td>6.775590</td>\n",
              "      <td>-6.638229</td>\n",
              "      <td>8.218653</td>\n",
              "      <td>-1.769707</td>\n",
              "      <td>7.761688</td>\n",
              "      <td>3.051142</td>\n",
              "      <td>13.435087</td>\n",
              "      <td>2.427018</td>\n",
              "      <td>0.378053</td>\n",
              "      <td>-11.103972</td>\n",
              "    </tr>\n",
              "    <tr>\n",
              "      <th>4</th>\n",
              "      <td>22.944032</td>\n",
              "      <td>2.571798</td>\n",
              "      <td>-10.079095</td>\n",
              "      <td>5.125062</td>\n",
              "      <td>-7.736008</td>\n",
              "      <td>6.861284</td>\n",
              "      <td>-3.528584</td>\n",
              "      <td>4.193993</td>\n",
              "      <td>-1.022704</td>\n",
              "      <td>8.535815</td>\n",
              "      <td>-2.133987</td>\n",
              "      <td>3.429809</td>\n",
              "      <td>-6.937412</td>\n",
              "    </tr>\n",
              "    <tr>\n",
              "      <th>...</th>\n",
              "      <td>...</td>\n",
              "      <td>...</td>\n",
              "      <td>...</td>\n",
              "      <td>...</td>\n",
              "      <td>...</td>\n",
              "      <td>...</td>\n",
              "      <td>...</td>\n",
              "      <td>...</td>\n",
              "      <td>...</td>\n",
              "      <td>...</td>\n",
              "      <td>...</td>\n",
              "      <td>...</td>\n",
              "      <td>...</td>\n",
              "    </tr>\n",
              "    <tr>\n",
              "      <th>426</th>\n",
              "      <td>23.486866</td>\n",
              "      <td>2.311978</td>\n",
              "      <td>-10.287448</td>\n",
              "      <td>7.428119</td>\n",
              "      <td>-5.837061</td>\n",
              "      <td>9.350814</td>\n",
              "      <td>-6.277030</td>\n",
              "      <td>0.489876</td>\n",
              "      <td>-4.393839</td>\n",
              "      <td>5.731565</td>\n",
              "      <td>-10.322669</td>\n",
              "      <td>4.063218</td>\n",
              "      <td>-4.210385</td>\n",
              "    </tr>\n",
              "    <tr>\n",
              "      <th>427</th>\n",
              "      <td>22.501261</td>\n",
              "      <td>3.496868</td>\n",
              "      <td>-8.226043</td>\n",
              "      <td>7.905971</td>\n",
              "      <td>-6.437381</td>\n",
              "      <td>3.359801</td>\n",
              "      <td>-10.005868</td>\n",
              "      <td>1.704459</td>\n",
              "      <td>-10.371967</td>\n",
              "      <td>-4.710131</td>\n",
              "      <td>-5.384541</td>\n",
              "      <td>4.406994</td>\n",
              "      <td>3.793802</td>\n",
              "    </tr>\n",
              "    <tr>\n",
              "      <th>428</th>\n",
              "      <td>23.313686</td>\n",
              "      <td>3.302396</td>\n",
              "      <td>-8.616918</td>\n",
              "      <td>7.564259</td>\n",
              "      <td>-6.515046</td>\n",
              "      <td>6.471744</td>\n",
              "      <td>-6.289568</td>\n",
              "      <td>1.899163</td>\n",
              "      <td>-7.436515</td>\n",
              "      <td>0.875214</td>\n",
              "      <td>-5.065525</td>\n",
              "      <td>4.057958</td>\n",
              "      <td>1.759017</td>\n",
              "    </tr>\n",
              "    <tr>\n",
              "      <th>429</th>\n",
              "      <td>23.616022</td>\n",
              "      <td>1.091893</td>\n",
              "      <td>-10.162498</td>\n",
              "      <td>6.517378</td>\n",
              "      <td>-11.825090</td>\n",
              "      <td>0.647370</td>\n",
              "      <td>-5.452832</td>\n",
              "      <td>0.775211</td>\n",
              "      <td>2.200242</td>\n",
              "      <td>5.286658</td>\n",
              "      <td>-0.762708</td>\n",
              "      <td>3.285617</td>\n",
              "      <td>1.137759</td>\n",
              "    </tr>\n",
              "    <tr>\n",
              "      <th>430</th>\n",
              "      <td>23.344113</td>\n",
              "      <td>2.416538</td>\n",
              "      <td>-9.535172</td>\n",
              "      <td>5.942263</td>\n",
              "      <td>-8.882076</td>\n",
              "      <td>5.003465</td>\n",
              "      <td>-8.159788</td>\n",
              "      <td>-4.747592</td>\n",
              "      <td>-17.212378</td>\n",
              "      <td>-8.058561</td>\n",
              "      <td>-8.941530</td>\n",
              "      <td>3.616738</td>\n",
              "      <td>2.203730</td>\n",
              "    </tr>\n",
              "  </tbody>\n",
              "</table>\n",
              "<p>431 rows × 13 columns</p>\n",
              "</div>"
            ],
            "text/plain": [
              "            S1        S2         S3  ...        S11       S12        S13\n",
              "0    23.280676  2.509755 -10.116877  ...  -7.722053  3.941438   1.272366\n",
              "1    22.894145  2.878973  -9.355654  ...  -3.459312  2.960453  -3.822101\n",
              "2    23.235703  2.802885  -9.357289  ...  -9.943338  2.711380   3.465274\n",
              "3    22.498366  2.196470  -9.784616  ...   2.427018  0.378053 -11.103972\n",
              "4    22.944032  2.571798 -10.079095  ...  -2.133987  3.429809  -6.937412\n",
              "..         ...       ...        ...  ...        ...       ...        ...\n",
              "426  23.486866  2.311978 -10.287448  ... -10.322669  4.063218  -4.210385\n",
              "427  22.501261  3.496868  -8.226043  ...  -5.384541  4.406994   3.793802\n",
              "428  23.313686  3.302396  -8.616918  ...  -5.065525  4.057958   1.759017\n",
              "429  23.616022  1.091893 -10.162498  ...  -0.762708  3.285617   1.137759\n",
              "430  23.344113  2.416538  -9.535172  ...  -8.941530  3.616738   2.203730\n",
              "\n",
              "[431 rows x 13 columns]"
            ]
          },
          "metadata": {
            "tags": []
          },
          "execution_count": 45
        }
      ]
    },
    {
      "cell_type": "code",
      "metadata": {
        "scrolled": false,
        "id": "LD0D7CbtAIML",
        "colab_type": "code",
        "colab": {
          "base_uri": "https://localhost:8080/",
          "height": 419
        },
        "outputId": "5711105e-c603-44ca-cbf3-c142969fe6b6"
      },
      "source": [
        "df4"
      ],
      "execution_count": 46,
      "outputs": [
        {
          "output_type": "execute_result",
          "data": {
            "text/html": [
              "<div>\n",
              "<style scoped>\n",
              "    .dataframe tbody tr th:only-of-type {\n",
              "        vertical-align: middle;\n",
              "    }\n",
              "\n",
              "    .dataframe tbody tr th {\n",
              "        vertical-align: top;\n",
              "    }\n",
              "\n",
              "    .dataframe thead th {\n",
              "        text-align: right;\n",
              "    }\n",
              "</style>\n",
              "<table border=\"1\" class=\"dataframe\">\n",
              "  <thead>\n",
              "    <tr style=\"text-align: right;\">\n",
              "      <th></th>\n",
              "      <th>S1</th>\n",
              "      <th>S2</th>\n",
              "      <th>S3</th>\n",
              "      <th>S4</th>\n",
              "      <th>S5</th>\n",
              "      <th>S6</th>\n",
              "      <th>S7</th>\n",
              "      <th>S8</th>\n",
              "      <th>S9</th>\n",
              "      <th>S10</th>\n",
              "      <th>S11</th>\n",
              "      <th>S12</th>\n",
              "      <th>S13</th>\n",
              "    </tr>\n",
              "  </thead>\n",
              "  <tbody>\n",
              "    <tr>\n",
              "      <th>0</th>\n",
              "      <td>22.492006</td>\n",
              "      <td>0.947644</td>\n",
              "      <td>-10.021860</td>\n",
              "      <td>6.555310</td>\n",
              "      <td>-5.212607</td>\n",
              "      <td>8.517220</td>\n",
              "      <td>-3.202073</td>\n",
              "      <td>14.388020</td>\n",
              "      <td>7.627345</td>\n",
              "      <td>19.520229</td>\n",
              "      <td>7.537034</td>\n",
              "      <td>1.464750</td>\n",
              "      <td>-14.314288</td>\n",
              "    </tr>\n",
              "    <tr>\n",
              "      <th>1</th>\n",
              "      <td>21.789058</td>\n",
              "      <td>-0.643863</td>\n",
              "      <td>-11.043081</td>\n",
              "      <td>5.138541</td>\n",
              "      <td>-9.136033</td>\n",
              "      <td>5.764689</td>\n",
              "      <td>-3.629623</td>\n",
              "      <td>9.217161</td>\n",
              "      <td>10.092070</td>\n",
              "      <td>26.260242</td>\n",
              "      <td>15.790774</td>\n",
              "      <td>0.329434</td>\n",
              "      <td>-17.094361</td>\n",
              "    </tr>\n",
              "    <tr>\n",
              "      <th>2</th>\n",
              "      <td>21.353676</td>\n",
              "      <td>1.534222</td>\n",
              "      <td>-10.165514</td>\n",
              "      <td>4.775447</td>\n",
              "      <td>-9.838070</td>\n",
              "      <td>5.379219</td>\n",
              "      <td>-1.755932</td>\n",
              "      <td>7.295117</td>\n",
              "      <td>4.446408</td>\n",
              "      <td>14.290919</td>\n",
              "      <td>5.725640</td>\n",
              "      <td>1.499035</td>\n",
              "      <td>-7.923401</td>\n",
              "    </tr>\n",
              "    <tr>\n",
              "      <th>3</th>\n",
              "      <td>21.826984</td>\n",
              "      <td>1.579191</td>\n",
              "      <td>-10.261896</td>\n",
              "      <td>7.474569</td>\n",
              "      <td>-8.460739</td>\n",
              "      <td>7.025112</td>\n",
              "      <td>-2.841640</td>\n",
              "      <td>8.413548</td>\n",
              "      <td>2.031862</td>\n",
              "      <td>9.950014</td>\n",
              "      <td>1.219737</td>\n",
              "      <td>-1.111351</td>\n",
              "      <td>-9.202801</td>\n",
              "    </tr>\n",
              "    <tr>\n",
              "      <th>4</th>\n",
              "      <td>20.702696</td>\n",
              "      <td>1.941602</td>\n",
              "      <td>-9.785126</td>\n",
              "      <td>7.164681</td>\n",
              "      <td>-6.761303</td>\n",
              "      <td>7.521014</td>\n",
              "      <td>-3.629222</td>\n",
              "      <td>10.915928</td>\n",
              "      <td>0.668616</td>\n",
              "      <td>8.442400</td>\n",
              "      <td>2.356029</td>\n",
              "      <td>3.378060</td>\n",
              "      <td>-8.803149</td>\n",
              "    </tr>\n",
              "    <tr>\n",
              "      <th>...</th>\n",
              "      <td>...</td>\n",
              "      <td>...</td>\n",
              "      <td>...</td>\n",
              "      <td>...</td>\n",
              "      <td>...</td>\n",
              "      <td>...</td>\n",
              "      <td>...</td>\n",
              "      <td>...</td>\n",
              "      <td>...</td>\n",
              "      <td>...</td>\n",
              "      <td>...</td>\n",
              "      <td>...</td>\n",
              "      <td>...</td>\n",
              "    </tr>\n",
              "    <tr>\n",
              "      <th>426</th>\n",
              "      <td>21.932683</td>\n",
              "      <td>1.240352</td>\n",
              "      <td>-11.031937</td>\n",
              "      <td>6.220696</td>\n",
              "      <td>-9.425331</td>\n",
              "      <td>2.706075</td>\n",
              "      <td>-10.147093</td>\n",
              "      <td>-1.210893</td>\n",
              "      <td>-12.693749</td>\n",
              "      <td>-6.375042</td>\n",
              "      <td>-10.675876</td>\n",
              "      <td>2.701038</td>\n",
              "      <td>2.544204</td>\n",
              "    </tr>\n",
              "    <tr>\n",
              "      <th>427</th>\n",
              "      <td>21.698649</td>\n",
              "      <td>2.031877</td>\n",
              "      <td>-10.160883</td>\n",
              "      <td>4.832978</td>\n",
              "      <td>-7.390836</td>\n",
              "      <td>6.548242</td>\n",
              "      <td>-4.365057</td>\n",
              "      <td>7.944611</td>\n",
              "      <td>-1.414880</td>\n",
              "      <td>10.790862</td>\n",
              "      <td>3.366315</td>\n",
              "      <td>2.857118</td>\n",
              "      <td>-9.018990</td>\n",
              "    </tr>\n",
              "    <tr>\n",
              "      <th>428</th>\n",
              "      <td>23.164832</td>\n",
              "      <td>1.557138</td>\n",
              "      <td>-11.079280</td>\n",
              "      <td>6.300789</td>\n",
              "      <td>-8.439545</td>\n",
              "      <td>6.521638</td>\n",
              "      <td>-4.472222</td>\n",
              "      <td>7.278699</td>\n",
              "      <td>0.672578</td>\n",
              "      <td>9.216444</td>\n",
              "      <td>-0.450271</td>\n",
              "      <td>3.052589</td>\n",
              "      <td>-5.336920</td>\n",
              "    </tr>\n",
              "    <tr>\n",
              "      <th>429</th>\n",
              "      <td>21.556025</td>\n",
              "      <td>2.261694</td>\n",
              "      <td>-10.386048</td>\n",
              "      <td>6.112747</td>\n",
              "      <td>-8.236585</td>\n",
              "      <td>5.674168</td>\n",
              "      <td>-5.259701</td>\n",
              "      <td>4.949012</td>\n",
              "      <td>-4.558478</td>\n",
              "      <td>2.702302</td>\n",
              "      <td>-5.015888</td>\n",
              "      <td>2.837712</td>\n",
              "      <td>-0.329107</td>\n",
              "    </tr>\n",
              "    <tr>\n",
              "      <th>430</th>\n",
              "      <td>20.871308</td>\n",
              "      <td>0.209144</td>\n",
              "      <td>-11.353865</td>\n",
              "      <td>3.658184</td>\n",
              "      <td>-6.073589</td>\n",
              "      <td>7.708159</td>\n",
              "      <td>-8.860672</td>\n",
              "      <td>5.749693</td>\n",
              "      <td>-3.416943</td>\n",
              "      <td>16.882518</td>\n",
              "      <td>8.039743</td>\n",
              "      <td>1.725613</td>\n",
              "      <td>-18.740506</td>\n",
              "    </tr>\n",
              "  </tbody>\n",
              "</table>\n",
              "<p>431 rows × 13 columns</p>\n",
              "</div>"
            ],
            "text/plain": [
              "            S1        S2         S3  ...        S11       S12        S13\n",
              "0    22.492006  0.947644 -10.021860  ...   7.537034  1.464750 -14.314288\n",
              "1    21.789058 -0.643863 -11.043081  ...  15.790774  0.329434 -17.094361\n",
              "2    21.353676  1.534222 -10.165514  ...   5.725640  1.499035  -7.923401\n",
              "3    21.826984  1.579191 -10.261896  ...   1.219737 -1.111351  -9.202801\n",
              "4    20.702696  1.941602  -9.785126  ...   2.356029  3.378060  -8.803149\n",
              "..         ...       ...        ...  ...        ...       ...        ...\n",
              "426  21.932683  1.240352 -11.031937  ... -10.675876  2.701038   2.544204\n",
              "427  21.698649  2.031877 -10.160883  ...   3.366315  2.857118  -9.018990\n",
              "428  23.164832  1.557138 -11.079280  ...  -0.450271  3.052589  -5.336920\n",
              "429  21.556025  2.261694 -10.386048  ...  -5.015888  2.837712  -0.329107\n",
              "430  20.871308  0.209144 -11.353865  ...   8.039743  1.725613 -18.740506\n",
              "\n",
              "[431 rows x 13 columns]"
            ]
          },
          "metadata": {
            "tags": []
          },
          "execution_count": 46
        }
      ]
    },
    {
      "cell_type": "code",
      "metadata": {
        "id": "2noAx48vAIMN",
        "colab_type": "code",
        "colab": {}
      },
      "source": [
        "Total_clean = df3.shape[0]\n",
        "Total_noisy4 = df4.shape[0]"
      ],
      "execution_count": 0,
      "outputs": []
    },
    {
      "cell_type": "code",
      "metadata": {
        "id": "6xDpDNIcAIMQ",
        "colab_type": "code",
        "colab": {
          "base_uri": "https://localhost:8080/",
          "height": 34
        },
        "outputId": "c38b0ce2-3acf-48d0-f1cc-ed4a99e1f6ce"
      },
      "source": [
        "Total_clean"
      ],
      "execution_count": 48,
      "outputs": [
        {
          "output_type": "execute_result",
          "data": {
            "text/plain": [
              "431"
            ]
          },
          "metadata": {
            "tags": []
          },
          "execution_count": 48
        }
      ]
    },
    {
      "cell_type": "code",
      "metadata": {
        "id": "kE7CWRYLAIMT",
        "colab_type": "code",
        "colab": {
          "base_uri": "https://localhost:8080/",
          "height": 34
        },
        "outputId": "5dcb8b1b-649b-4cca-b696-0c321638d84d"
      },
      "source": [
        "Total_noisy4"
      ],
      "execution_count": 49,
      "outputs": [
        {
          "output_type": "execute_result",
          "data": {
            "text/plain": [
              "431"
            ]
          },
          "metadata": {
            "tags": []
          },
          "execution_count": 49
        }
      ]
    },
    {
      "cell_type": "code",
      "metadata": {
        "id": "4J_Ed0ovAIMX",
        "colab_type": "code",
        "colab": {}
      },
      "source": [
        "\n",
        "x_holdout_clean = df3\n",
        "X_holdout_clean = np.expand_dims(x_holdout_clean, axis=2)\n",
        "\n",
        "x_holdout_noisy4 = df4\n",
        "X_holdout_noisy4 = np.expand_dims(x_holdout_noisy4, axis=2)\n",
        "\n",
        "\n"
      ],
      "execution_count": 0,
      "outputs": []
    },
    {
      "cell_type": "code",
      "metadata": {
        "id": "1JRGqNtyAIMa",
        "colab_type": "code",
        "colab": {}
      },
      "source": [
        "# Prediction for clean data\n",
        "\n",
        "pred_clean = my_model.predict(X_holdout_clean)\n",
        "pred_clean = np.argmax(pred_clean,axis=1)\n",
        "clean_pred = 0\n",
        "for i in range (0,Total_clean):\n",
        "    if pred_clean[i] == 0: \n",
        "        clean_pred = clean_pred + 1   # clean =0 absence of noise\n",
        "          \n",
        "    \n"
      ],
      "execution_count": 0,
      "outputs": []
    },
    {
      "cell_type": "code",
      "metadata": {
        "id": "P-0Eyud2AIMd",
        "colab_type": "code",
        "colab": {}
      },
      "source": [
        "# Prediction for noisy data\n",
        "\n",
        "pred_noisy4 = my_model.predict(X_holdout_noisy4)\n",
        "pred_noisy4 = np.argmax(pred_noisy4,axis=1)\n",
        "noisy_pred4 = 0\n",
        "for i in range (0,Total_noisy4):\n",
        "    if pred_noisy4[i] == 1: \n",
        "        noisy_pred4 = noisy_pred4 + 1   # noisy =1 presence of noise\n",
        "          \n",
        "    \n"
      ],
      "execution_count": 0,
      "outputs": []
    },
    {
      "cell_type": "code",
      "metadata": {
        "id": "A8UY_l62AIMf",
        "colab_type": "code",
        "colab": {
          "base_uri": "https://localhost:8080/",
          "height": 102
        },
        "outputId": "43c0484a-bc7a-484f-a7fc-f15becf1a0ca"
      },
      "source": [
        "#######For clean signal ######\n",
        "\n",
        "Accuracy = clean_pred / (Total_clean)\n",
        "print(\"Total_frames:\",Total_clean)\n",
        "print(\"Predicted:\",clean_pred)\n",
        "print(\"Noisy\",Total_clean-clean_pred)\n",
        "print(\"Accuracy:\", Accuracy*100)\n",
        "print(\"Acurracy for noisy\", 100-(Accuracy*100))\n"
      ],
      "execution_count": 53,
      "outputs": [
        {
          "output_type": "stream",
          "text": [
            "Total_frames: 431\n",
            "Predicted: 431\n",
            "Noisy 0\n",
            "Accuracy: 100.0\n",
            "Acurracy for noisy 0.0\n"
          ],
          "name": "stdout"
        }
      ]
    },
    {
      "cell_type": "code",
      "metadata": {
        "id": "yy0Ys37WAIMi",
        "colab_type": "code",
        "colab": {
          "base_uri": "https://localhost:8080/",
          "height": 136
        },
        "outputId": "5a83fb90-ceb8-47be-c356-00bf38079a9c"
      },
      "source": [
        "\n",
        "#######For Noisy signal ######\n",
        "Accuracy = noisy_pred4 / (Total_noisy4)\n",
        "print(\"For (cleanspeech + 0.1(Noise))\")\n",
        "print(\"Total_frames:\",Total_noisy4)\n",
        "print(\"Predicted:\",noisy_pred4)\n",
        "print(\"Noisefre\",Total_noisy4-noisy_pred4)\n",
        "print(\"Accuracy:\", Accuracy*100)\n",
        "print(\"Acurracy for noisefree\", 100-(Accuracy*100))\n",
        "print(\"\")\n"
      ],
      "execution_count": 54,
      "outputs": [
        {
          "output_type": "stream",
          "text": [
            "For (cleanspeech + 0.1(Noise))\n",
            "Total_frames: 431\n",
            "Predicted: 0\n",
            "Noisefre 431\n",
            "Accuracy: 0.0\n",
            "Acurracy for noisefree 100.0\n",
            "\n"
          ],
          "name": "stdout"
        }
      ]
    },
    {
      "cell_type": "code",
      "metadata": {
        "id": "9szgt0CuAIMk",
        "colab_type": "code",
        "colab": {}
      },
      "source": [
        ""
      ],
      "execution_count": 0,
      "outputs": []
    },
    {
      "cell_type": "code",
      "metadata": {
        "id": "D7ni-3E7AIMn",
        "colab_type": "code",
        "colab": {}
      },
      "source": [
        ""
      ],
      "execution_count": 0,
      "outputs": []
    },
    {
      "cell_type": "code",
      "metadata": {
        "id": "btgiZEUaAIMp",
        "colab_type": "code",
        "colab": {}
      },
      "source": [
        ""
      ],
      "execution_count": 0,
      "outputs": []
    },
    {
      "cell_type": "code",
      "metadata": {
        "id": "-tzFl8W7AIMr",
        "colab_type": "code",
        "colab": {}
      },
      "source": [
        ""
      ],
      "execution_count": 0,
      "outputs": []
    },
    {
      "cell_type": "code",
      "metadata": {
        "id": "Ql-Ln4neAIMw",
        "colab_type": "code",
        "colab": {}
      },
      "source": [
        ""
      ],
      "execution_count": 0,
      "outputs": []
    },
    {
      "cell_type": "code",
      "metadata": {
        "id": "Po9SBhx6AIMz",
        "colab_type": "code",
        "colab": {}
      },
      "source": [
        ""
      ],
      "execution_count": 0,
      "outputs": []
    },
    {
      "cell_type": "code",
      "metadata": {
        "id": "R43xMDbOAIM1",
        "colab_type": "code",
        "colab": {}
      },
      "source": [
        ""
      ],
      "execution_count": 0,
      "outputs": []
    },
    {
      "cell_type": "code",
      "metadata": {
        "id": "KrOiYdCQAIM3",
        "colab_type": "code",
        "colab": {}
      },
      "source": [
        ""
      ],
      "execution_count": 0,
      "outputs": []
    },
    {
      "cell_type": "code",
      "metadata": {
        "id": "-h_aUqfQAIM6",
        "colab_type": "code",
        "colab": {}
      },
      "source": [
        ""
      ],
      "execution_count": 0,
      "outputs": []
    },
    {
      "cell_type": "code",
      "metadata": {
        "id": "KSR-T5-eAIM9",
        "colab_type": "code",
        "colab": {}
      },
      "source": [
        ""
      ],
      "execution_count": 0,
      "outputs": []
    },
    {
      "cell_type": "code",
      "metadata": {
        "id": "JOLKah9jAIM_",
        "colab_type": "code",
        "colab": {}
      },
      "source": [
        ""
      ],
      "execution_count": 0,
      "outputs": []
    },
    {
      "cell_type": "code",
      "metadata": {
        "id": "Gn6g4xvRAIND",
        "colab_type": "code",
        "colab": {}
      },
      "source": [
        ""
      ],
      "execution_count": 0,
      "outputs": []
    },
    {
      "cell_type": "code",
      "metadata": {
        "id": "ILAGKHR2AINH",
        "colab_type": "code",
        "colab": {}
      },
      "source": [
        ""
      ],
      "execution_count": 0,
      "outputs": []
    },
    {
      "cell_type": "code",
      "metadata": {
        "id": "VOE5-PAjAINO",
        "colab_type": "code",
        "colab": {
          "base_uri": "https://localhost:8080/",
          "height": 34
        },
        "outputId": "237e13e9-caeb-495b-ba61-ce2b99f59f33"
      },
      "source": [
        "## NOIZEUS CLEAN DATA AND RECORDED NOISY data testing .\n",
        "\n",
        "import pandas as pd\n",
        "import io\n",
        "import requests\n",
        "import numpy as np\n",
        "import os\n",
        "from sklearn.model_selection import train_test_split\n",
        "from sklearn import metrics\n",
        "from keras.models import Sequential\n",
        "from keras.layers.core import Dense, Activation\n",
        "from keras.callbacks import EarlyStopping\n",
        "\n",
        "#path = \"./data/\"\n",
        "\n",
        "#filename3 = os.path.join(path,\"FEMALE_testing_label.csv\")    \n",
        "#df3 = pd.read_csv(filename3,na_values=['NA','?'])\n",
        "\n",
        "#filename4 = os.path.join(path,\"0.1Fraction_label.csv\")    \n",
        "#df4 = pd.read_csv(filename4,na_values=['NA','?'])\n",
        "frames = [df1, df2]\n",
        "df5 = pd.concat(frames, keys=['x', 'y'])\n",
        "\n",
        "# Shuffle\n",
        "np.random.seed(42)\n",
        "df5 = df5.reindex(np.random.permutation(df5.index))\n",
        "df5.reset_index(inplace=True, drop=True)\n",
        "\n",
        "\n",
        "signal = encode_text_index(df5,\"signal\")\n",
        "x_holdout01,y_holdout01 = to_xy(df5,\"signal\")\n",
        "\n",
        "\n",
        "\n",
        "\n",
        "\n",
        "\n",
        "\n",
        "\n",
        "\n",
        "\n"
      ],
      "execution_count": 58,
      "outputs": [
        {
          "output_type": "stream",
          "text": [
            "/usr/local/lib/python3.6/dist-packages/ipykernel_launcher.py:78: FutureWarning: Method .as_matrix will be removed in a future version. Use .values instead.\n"
          ],
          "name": "stderr"
        }
      ]
    },
    {
      "cell_type": "code",
      "metadata": {
        "id": "8RBWjzdLAINR",
        "colab_type": "code",
        "colab": {
          "base_uri": "https://localhost:8080/",
          "height": 51
        },
        "outputId": "b50764bd-4773-47f6-e135-09a067efa65d"
      },
      "source": [
        "# Write the cross-validated prediction (from the last neural network)\n",
        "\n",
        "X_holdout01 = np.expand_dims(x_holdout01, axis=2)\n",
        "holdout_pred01 = my_model.predict(X_holdout01)\n",
        "score = metrics.log_loss(y_holdout01, holdout_pred01)\n",
        "print(\"Log loss score: {}\".format(score))\n",
        "\n",
        "# Measure accuracy\n",
        "holdout_pred01 = np.argmax(holdout_pred01, axis=1)\n",
        "y_holdout_compare01 = np.argmax(y_holdout01, axis=1)\n",
        "score = metrics.accuracy_score(y_holdout_compare01, holdout_pred01)\n",
        "print(\"Final accuracy: {}\".format(score))\n",
        "\n",
        "\n",
        "\n",
        "\n",
        "# Write the cross-validated prediction (from the last neural network)\n",
        "\n",
        "\n"
      ],
      "execution_count": 59,
      "outputs": [
        {
          "output_type": "stream",
          "text": [
            "Log loss score: 0.2651155084775896\n",
            "Final accuracy: 0.9092631578947369\n"
          ],
          "name": "stdout"
        }
      ]
    },
    {
      "cell_type": "code",
      "metadata": {
        "id": "I08Iq_R8AINU",
        "colab_type": "code",
        "colab": {
          "base_uri": "https://localhost:8080/",
          "height": 467
        },
        "outputId": "657625da-0979-4567-bc34-0b390b629d2f"
      },
      "source": [
        "import numpy as np\n",
        "\n",
        "from sklearn import svm, datasets\n",
        "from sklearn.model_selection import train_test_split\n",
        "from sklearn.metrics import confusion_matrix\n",
        "\n",
        "# Compute confusion matrix\n",
        "cm = confusion_matrix(y_holdout_compare01, holdout_pred01)\n",
        "np.set_printoptions(precision=2)\n",
        "print('Confusion matrix, without normalization')\n",
        "print(cm)\n",
        "plt.figure()\n",
        "plot_confusion_matrix(cm, signal)\n",
        "plt.savefig('0.1Fraction.png',dpi=150)\n",
        "print('')\n",
        "[[TP,FN],[FP,TN]]=cm\n",
        "\n",
        "Acc=((TP+TN)/(TP+TN+FP+FN)) * 100\n",
        "print(\"Overall Accuracy: \", Acc)\n",
        "\n",
        "Se=(TP)/(TP+FN)\n",
        "print(\"Sensitivity: \", Se*100)\n",
        "\n",
        "Sp=(TN)/(TN+FP)\n",
        "print(\"Specificity: \",Sp*100)\n",
        "\n",
        "ER=(FP+FN)/(TP+TN+FP+FN)\n",
        "print(\"Error Rate: \",ER*100)\n",
        "print('')\n",
        "print('')\n",
        "\n",
        "\n",
        "\n",
        "\n",
        "\n",
        "\n",
        "\n",
        "\n",
        "\n"
      ],
      "execution_count": 60,
      "outputs": [
        {
          "output_type": "stream",
          "text": [
            "Confusion matrix, without normalization\n",
            "[[4319    0]\n",
            " [ 431    0]]\n",
            "\n",
            "Overall Accuracy:  90.92631578947369\n",
            "Sensitivity:  100.0\n",
            "Specificity:  0.0\n",
            "Error Rate:  9.073684210526316\n",
            "\n",
            "\n"
          ],
          "name": "stdout"
        },
        {
          "output_type": "display_data",
          "data": {
            "image/png": "[encoded data removed]",
            "text/plain": [
              "<Figure size 432x288 with 2 Axes>"
            ]
          },
          "metadata": {
            "tags": []
          }
        }
      ]
    },
    {
      "cell_type": "code",
      "metadata": {
        "id": "fiXsNuCcAINs",
        "colab_type": "code",
        "colab": {
          "base_uri": "https://localhost:8080/",
          "height": 629
        },
        "outputId": "114ddf30-3f4c-4bcb-ffc6-88b8cd9465d6"
      },
      "source": [
        "my_model.summary()\n"
      ],
      "execution_count": 61,
      "outputs": [
        {
          "output_type": "stream",
          "text": [
            "Model: \"sequential_5\"\n",
            "_________________________________________________________________\n",
            "Layer (type)                 Output Shape              Param #   \n",
            "=================================================================\n",
            "conv1d_17 (Conv1D)           (None, 12, 40)            120       \n",
            "_________________________________________________________________\n",
            "conv1d_18 (Conv1D)           (None, 11, 40)            3240      \n",
            "_________________________________________________________________\n",
            "max_pooling1d_5 (MaxPooling1 (None, 5, 40)             0         \n",
            "_________________________________________________________________\n",
            "dropout_13 (Dropout)         (None, 5, 40)             0         \n",
            "_________________________________________________________________\n",
            "conv1d_19 (Conv1D)           (None, 4, 60)             4860      \n",
            "_________________________________________________________________\n",
            "conv1d_20 (Conv1D)           (None, 3, 60)             7260      \n",
            "_________________________________________________________________\n",
            "flatten_5 (Flatten)          (None, 180)               0         \n",
            "_________________________________________________________________\n",
            "dense_13 (Dense)             (None, 30)                5430      \n",
            "_________________________________________________________________\n",
            "activation_9 (Activation)    (None, 30)                0         \n",
            "_________________________________________________________________\n",
            "dropout_14 (Dropout)         (None, 30)                0         \n",
            "_________________________________________________________________\n",
            "dense_14 (Dense)             (None, 10)                310       \n",
            "_________________________________________________________________\n",
            "activation_10 (Activation)   (None, 10)                0         \n",
            "_________________________________________________________________\n",
            "dropout_15 (Dropout)         (None, 10)                0         \n",
            "_________________________________________________________________\n",
            "dense_15 (Dense)             (None, 2)                 22        \n",
            "=================================================================\n",
            "Total params: 21,242\n",
            "Trainable params: 21,242\n",
            "Non-trainable params: 0\n",
            "_________________________________________________________________\n"
          ],
          "name": "stdout"
        }
      ]
    },
    {
      "cell_type": "code",
      "metadata": {
        "id": "mM38HbpTAINw",
        "colab_type": "code",
        "colab": {}
      },
      "source": [
        ""
      ],
      "execution_count": 0,
      "outputs": []
    },
    {
      "cell_type": "code",
      "metadata": {
        "id": "uOZ5--PZAINy",
        "colab_type": "code",
        "colab": {}
      },
      "source": [
        ""
      ],
      "execution_count": 0,
      "outputs": []
    },
    {
      "cell_type": "code",
      "metadata": {
        "id": "m_ILn71FAIN0",
        "colab_type": "code",
        "colab": {}
      },
      "source": [
        ""
      ],
      "execution_count": 0,
      "outputs": []
    }
  ]
}